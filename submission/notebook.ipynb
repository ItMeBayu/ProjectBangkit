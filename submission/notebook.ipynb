{
 "cells": [
  {
   "cell_type": "markdown",
   "id": "04a375d6",
   "metadata": {},
   "source": [
    "# Proyek Analisis Data: E-Commerce Public Dataset\n",
    "\n",
    "- **Nama:** I Kadek Bayu Danu Artha\n",
    "- **Email:** M298D4KY1727@bangkit.academy\n",
    "- **ID Dicoding:** danuartha"
   ]
  },
  {
   "cell_type": "markdown",
   "id": "7609eba7",
   "metadata": {},
   "source": [
    "## Defining the Business Question"
   ]
  },
  {
   "cell_type": "markdown",
   "id": "ad175638",
   "metadata": {},
   "source": [
    "- Apakah product dengan nilai review yang baik akan membuat product tersebut lebih sering dibeli oleh pelanggan?\n",
    "\n",
    "- Bagaimana pola pembelian pelanggan pada 3 wilayah dengan jumlah order terbanyak pada kurun waktu 2 tahun terakhir apakah terdapat peningkatan atau penurunan yang signifikan?"
   ]
  },
  {
   "cell_type": "markdown",
   "id": "93954d01",
   "metadata": {},
   "source": [
    "## Import the Necessary Libraries"
   ]
  },
  {
   "cell_type": "code",
   "execution_count": 69,
   "id": "4a67795e",
   "metadata": {},
   "outputs": [],
   "source": [
    "import numpy as np\n",
    "import pandas as pd\n",
    "import matplotlib.pyplot as plt\n",
    "import seaborn as sns"
   ]
  },
  {
   "cell_type": "markdown",
   "id": "6f732981",
   "metadata": {},
   "source": [
    "## Data Wrangling"
   ]
  },
  {
   "cell_type": "markdown",
   "id": "628e3c6a",
   "metadata": {},
   "source": [
    "### Gathering Data"
   ]
  },
  {
   "cell_type": "markdown",
   "id": "fb871a30",
   "metadata": {},
   "source": [
    "#### Load Dataset Customer"
   ]
  },
  {
   "cell_type": "code",
   "execution_count": 70,
   "id": "9399b61e",
   "metadata": {},
   "outputs": [
    {
     "data": {
      "text/html": [
       "<div>\n",
       "<style scoped>\n",
       "    .dataframe tbody tr th:only-of-type {\n",
       "        vertical-align: middle;\n",
       "    }\n",
       "\n",
       "    .dataframe tbody tr th {\n",
       "        vertical-align: top;\n",
       "    }\n",
       "\n",
       "    .dataframe thead th {\n",
       "        text-align: right;\n",
       "    }\n",
       "</style>\n",
       "<table border=\"1\" class=\"dataframe\">\n",
       "  <thead>\n",
       "    <tr style=\"text-align: right;\">\n",
       "      <th></th>\n",
       "      <th>customer_id</th>\n",
       "      <th>customer_unique_id</th>\n",
       "      <th>customer_zip_code_prefix</th>\n",
       "      <th>customer_city</th>\n",
       "      <th>customer_state</th>\n",
       "    </tr>\n",
       "  </thead>\n",
       "  <tbody>\n",
       "    <tr>\n",
       "      <th>0</th>\n",
       "      <td>06b8999e2fba1a1fbc88172c00ba8bc7</td>\n",
       "      <td>861eff4711a542e4b93843c6dd7febb0</td>\n",
       "      <td>14409</td>\n",
       "      <td>franca</td>\n",
       "      <td>SP</td>\n",
       "    </tr>\n",
       "    <tr>\n",
       "      <th>1</th>\n",
       "      <td>18955e83d337fd6b2def6b18a428ac77</td>\n",
       "      <td>290c77bc529b7ac935b93aa66c333dc3</td>\n",
       "      <td>9790</td>\n",
       "      <td>sao bernardo do campo</td>\n",
       "      <td>SP</td>\n",
       "    </tr>\n",
       "    <tr>\n",
       "      <th>2</th>\n",
       "      <td>4e7b3e00288586ebd08712fdd0374a03</td>\n",
       "      <td>060e732b5b29e8181a18229c7b0b2b5e</td>\n",
       "      <td>1151</td>\n",
       "      <td>sao paulo</td>\n",
       "      <td>SP</td>\n",
       "    </tr>\n",
       "    <tr>\n",
       "      <th>3</th>\n",
       "      <td>b2b6027bc5c5109e529d4dc6358b12c3</td>\n",
       "      <td>259dac757896d24d7702b9acbbff3f3c</td>\n",
       "      <td>8775</td>\n",
       "      <td>mogi das cruzes</td>\n",
       "      <td>SP</td>\n",
       "    </tr>\n",
       "    <tr>\n",
       "      <th>4</th>\n",
       "      <td>4f2d8ab171c80ec8364f7c12e35b23ad</td>\n",
       "      <td>345ecd01c38d18a9036ed96c73b8d066</td>\n",
       "      <td>13056</td>\n",
       "      <td>campinas</td>\n",
       "      <td>SP</td>\n",
       "    </tr>\n",
       "  </tbody>\n",
       "</table>\n",
       "</div>"
      ],
      "text/plain": [
       "                        customer_id                customer_unique_id  \\\n",
       "0  06b8999e2fba1a1fbc88172c00ba8bc7  861eff4711a542e4b93843c6dd7febb0   \n",
       "1  18955e83d337fd6b2def6b18a428ac77  290c77bc529b7ac935b93aa66c333dc3   \n",
       "2  4e7b3e00288586ebd08712fdd0374a03  060e732b5b29e8181a18229c7b0b2b5e   \n",
       "3  b2b6027bc5c5109e529d4dc6358b12c3  259dac757896d24d7702b9acbbff3f3c   \n",
       "4  4f2d8ab171c80ec8364f7c12e35b23ad  345ecd01c38d18a9036ed96c73b8d066   \n",
       "\n",
       "   customer_zip_code_prefix          customer_city customer_state  \n",
       "0                     14409                 franca             SP  \n",
       "1                      9790  sao bernardo do campo             SP  \n",
       "2                      1151              sao paulo             SP  \n",
       "3                      8775        mogi das cruzes             SP  \n",
       "4                     13056               campinas             SP  "
      ]
     },
     "execution_count": 70,
     "metadata": {},
     "output_type": "execute_result"
    }
   ],
   "source": [
    "customers_df = pd.read_csv(\"https://raw.githubusercontent.com/Bayu-DanuArtha/Dataset-Bangkit/main/E-Commerce_Dataset/customers_dataset.csv\")\n",
    "customers_df.head()"
   ]
  },
  {
   "cell_type": "markdown",
   "id": "3787e9f5",
   "metadata": {},
   "source": [
    "#### Load Dataset Geolocation"
   ]
  },
  {
   "cell_type": "code",
   "execution_count": 71,
   "id": "16b472c6",
   "metadata": {},
   "outputs": [
    {
     "data": {
      "text/html": [
       "<div>\n",
       "<style scoped>\n",
       "    .dataframe tbody tr th:only-of-type {\n",
       "        vertical-align: middle;\n",
       "    }\n",
       "\n",
       "    .dataframe tbody tr th {\n",
       "        vertical-align: top;\n",
       "    }\n",
       "\n",
       "    .dataframe thead th {\n",
       "        text-align: right;\n",
       "    }\n",
       "</style>\n",
       "<table border=\"1\" class=\"dataframe\">\n",
       "  <thead>\n",
       "    <tr style=\"text-align: right;\">\n",
       "      <th></th>\n",
       "      <th>geolocation_zip_code_prefix</th>\n",
       "      <th>geolocation_lat</th>\n",
       "      <th>geolocation_lng</th>\n",
       "      <th>geolocation_city</th>\n",
       "      <th>geolocation_state</th>\n",
       "    </tr>\n",
       "  </thead>\n",
       "  <tbody>\n",
       "    <tr>\n",
       "      <th>0</th>\n",
       "      <td>1037</td>\n",
       "      <td>-23.545621</td>\n",
       "      <td>-46.639292</td>\n",
       "      <td>sao paulo</td>\n",
       "      <td>SP</td>\n",
       "    </tr>\n",
       "    <tr>\n",
       "      <th>1</th>\n",
       "      <td>1046</td>\n",
       "      <td>-23.546081</td>\n",
       "      <td>-46.644820</td>\n",
       "      <td>sao paulo</td>\n",
       "      <td>SP</td>\n",
       "    </tr>\n",
       "    <tr>\n",
       "      <th>2</th>\n",
       "      <td>1046</td>\n",
       "      <td>-23.546129</td>\n",
       "      <td>-46.642951</td>\n",
       "      <td>sao paulo</td>\n",
       "      <td>SP</td>\n",
       "    </tr>\n",
       "    <tr>\n",
       "      <th>3</th>\n",
       "      <td>1041</td>\n",
       "      <td>-23.544392</td>\n",
       "      <td>-46.639499</td>\n",
       "      <td>sao paulo</td>\n",
       "      <td>SP</td>\n",
       "    </tr>\n",
       "    <tr>\n",
       "      <th>4</th>\n",
       "      <td>1035</td>\n",
       "      <td>-23.541578</td>\n",
       "      <td>-46.641607</td>\n",
       "      <td>sao paulo</td>\n",
       "      <td>SP</td>\n",
       "    </tr>\n",
       "  </tbody>\n",
       "</table>\n",
       "</div>"
      ],
      "text/plain": [
       "   geolocation_zip_code_prefix  geolocation_lat  geolocation_lng  \\\n",
       "0                         1037       -23.545621       -46.639292   \n",
       "1                         1046       -23.546081       -46.644820   \n",
       "2                         1046       -23.546129       -46.642951   \n",
       "3                         1041       -23.544392       -46.639499   \n",
       "4                         1035       -23.541578       -46.641607   \n",
       "\n",
       "  geolocation_city geolocation_state  \n",
       "0        sao paulo                SP  \n",
       "1        sao paulo                SP  \n",
       "2        sao paulo                SP  \n",
       "3        sao paulo                SP  \n",
       "4        sao paulo                SP  "
      ]
     },
     "execution_count": 71,
     "metadata": {},
     "output_type": "execute_result"
    }
   ],
   "source": [
    "geolocation_df = pd.read_csv(\"https://raw.githubusercontent.com/Bayu-DanuArtha/Dataset-Bangkit/main/E-Commerce_Dataset/geolocation_dataset.csv\")\n",
    "geolocation_df.head()"
   ]
  },
  {
   "cell_type": "markdown",
   "id": "f5446855",
   "metadata": {},
   "source": [
    "#### Load Dataset Orders Item"
   ]
  },
  {
   "cell_type": "code",
   "execution_count": 72,
   "id": "a9cb0353",
   "metadata": {},
   "outputs": [
    {
     "data": {
      "text/html": [
       "<div>\n",
       "<style scoped>\n",
       "    .dataframe tbody tr th:only-of-type {\n",
       "        vertical-align: middle;\n",
       "    }\n",
       "\n",
       "    .dataframe tbody tr th {\n",
       "        vertical-align: top;\n",
       "    }\n",
       "\n",
       "    .dataframe thead th {\n",
       "        text-align: right;\n",
       "    }\n",
       "</style>\n",
       "<table border=\"1\" class=\"dataframe\">\n",
       "  <thead>\n",
       "    <tr style=\"text-align: right;\">\n",
       "      <th></th>\n",
       "      <th>order_id</th>\n",
       "      <th>order_item_id</th>\n",
       "      <th>product_id</th>\n",
       "      <th>seller_id</th>\n",
       "      <th>shipping_limit_date</th>\n",
       "      <th>price</th>\n",
       "      <th>freight_value</th>\n",
       "    </tr>\n",
       "  </thead>\n",
       "  <tbody>\n",
       "    <tr>\n",
       "      <th>0</th>\n",
       "      <td>00010242fe8c5a6d1ba2dd792cb16214</td>\n",
       "      <td>1</td>\n",
       "      <td>4244733e06e7ecb4970a6e2683c13e61</td>\n",
       "      <td>48436dade18ac8b2bce089ec2a041202</td>\n",
       "      <td>2017-09-19 09:45:35</td>\n",
       "      <td>58.90</td>\n",
       "      <td>13.29</td>\n",
       "    </tr>\n",
       "    <tr>\n",
       "      <th>1</th>\n",
       "      <td>00018f77f2f0320c557190d7a144bdd3</td>\n",
       "      <td>1</td>\n",
       "      <td>e5f2d52b802189ee658865ca93d83a8f</td>\n",
       "      <td>dd7ddc04e1b6c2c614352b383efe2d36</td>\n",
       "      <td>2017-05-03 11:05:13</td>\n",
       "      <td>239.90</td>\n",
       "      <td>19.93</td>\n",
       "    </tr>\n",
       "    <tr>\n",
       "      <th>2</th>\n",
       "      <td>000229ec398224ef6ca0657da4fc703e</td>\n",
       "      <td>1</td>\n",
       "      <td>c777355d18b72b67abbeef9df44fd0fd</td>\n",
       "      <td>5b51032eddd242adc84c38acab88f23d</td>\n",
       "      <td>2018-01-18 14:48:30</td>\n",
       "      <td>199.00</td>\n",
       "      <td>17.87</td>\n",
       "    </tr>\n",
       "    <tr>\n",
       "      <th>3</th>\n",
       "      <td>00024acbcdf0a6daa1e931b038114c75</td>\n",
       "      <td>1</td>\n",
       "      <td>7634da152a4610f1595efa32f14722fc</td>\n",
       "      <td>9d7a1d34a5052409006425275ba1c2b4</td>\n",
       "      <td>2018-08-15 10:10:18</td>\n",
       "      <td>12.99</td>\n",
       "      <td>12.79</td>\n",
       "    </tr>\n",
       "    <tr>\n",
       "      <th>4</th>\n",
       "      <td>00042b26cf59d7ce69dfabb4e55b4fd9</td>\n",
       "      <td>1</td>\n",
       "      <td>ac6c3623068f30de03045865e4e10089</td>\n",
       "      <td>df560393f3a51e74553ab94004ba5c87</td>\n",
       "      <td>2017-02-13 13:57:51</td>\n",
       "      <td>199.90</td>\n",
       "      <td>18.14</td>\n",
       "    </tr>\n",
       "  </tbody>\n",
       "</table>\n",
       "</div>"
      ],
      "text/plain": [
       "                           order_id  order_item_id  \\\n",
       "0  00010242fe8c5a6d1ba2dd792cb16214              1   \n",
       "1  00018f77f2f0320c557190d7a144bdd3              1   \n",
       "2  000229ec398224ef6ca0657da4fc703e              1   \n",
       "3  00024acbcdf0a6daa1e931b038114c75              1   \n",
       "4  00042b26cf59d7ce69dfabb4e55b4fd9              1   \n",
       "\n",
       "                         product_id                         seller_id  \\\n",
       "0  4244733e06e7ecb4970a6e2683c13e61  48436dade18ac8b2bce089ec2a041202   \n",
       "1  e5f2d52b802189ee658865ca93d83a8f  dd7ddc04e1b6c2c614352b383efe2d36   \n",
       "2  c777355d18b72b67abbeef9df44fd0fd  5b51032eddd242adc84c38acab88f23d   \n",
       "3  7634da152a4610f1595efa32f14722fc  9d7a1d34a5052409006425275ba1c2b4   \n",
       "4  ac6c3623068f30de03045865e4e10089  df560393f3a51e74553ab94004ba5c87   \n",
       "\n",
       "   shipping_limit_date   price  freight_value  \n",
       "0  2017-09-19 09:45:35   58.90          13.29  \n",
       "1  2017-05-03 11:05:13  239.90          19.93  \n",
       "2  2018-01-18 14:48:30  199.00          17.87  \n",
       "3  2018-08-15 10:10:18   12.99          12.79  \n",
       "4  2017-02-13 13:57:51  199.90          18.14  "
      ]
     },
     "execution_count": 72,
     "metadata": {},
     "output_type": "execute_result"
    }
   ],
   "source": [
    "order_item_df = pd.read_csv(\"https://raw.githubusercontent.com/Bayu-DanuArtha/Dataset-Bangkit/main/E-Commerce_Dataset/order_items_dataset.csv\")\n",
    "order_item_df.head()"
   ]
  },
  {
   "cell_type": "markdown",
   "id": "986e72cc",
   "metadata": {},
   "source": [
    "#### Load Dataset Order Payments"
   ]
  },
  {
   "cell_type": "code",
   "execution_count": 73,
   "id": "e8270159",
   "metadata": {},
   "outputs": [
    {
     "data": {
      "text/html": [
       "<div>\n",
       "<style scoped>\n",
       "    .dataframe tbody tr th:only-of-type {\n",
       "        vertical-align: middle;\n",
       "    }\n",
       "\n",
       "    .dataframe tbody tr th {\n",
       "        vertical-align: top;\n",
       "    }\n",
       "\n",
       "    .dataframe thead th {\n",
       "        text-align: right;\n",
       "    }\n",
       "</style>\n",
       "<table border=\"1\" class=\"dataframe\">\n",
       "  <thead>\n",
       "    <tr style=\"text-align: right;\">\n",
       "      <th></th>\n",
       "      <th>order_id</th>\n",
       "      <th>payment_sequential</th>\n",
       "      <th>payment_type</th>\n",
       "      <th>payment_installments</th>\n",
       "      <th>payment_value</th>\n",
       "    </tr>\n",
       "  </thead>\n",
       "  <tbody>\n",
       "    <tr>\n",
       "      <th>0</th>\n",
       "      <td>b81ef226f3fe1789b1e8b2acac839d17</td>\n",
       "      <td>1</td>\n",
       "      <td>credit_card</td>\n",
       "      <td>8</td>\n",
       "      <td>99.33</td>\n",
       "    </tr>\n",
       "    <tr>\n",
       "      <th>1</th>\n",
       "      <td>a9810da82917af2d9aefd1278f1dcfa0</td>\n",
       "      <td>1</td>\n",
       "      <td>credit_card</td>\n",
       "      <td>1</td>\n",
       "      <td>24.39</td>\n",
       "    </tr>\n",
       "    <tr>\n",
       "      <th>2</th>\n",
       "      <td>25e8ea4e93396b6fa0d3dd708e76c1bd</td>\n",
       "      <td>1</td>\n",
       "      <td>credit_card</td>\n",
       "      <td>1</td>\n",
       "      <td>65.71</td>\n",
       "    </tr>\n",
       "    <tr>\n",
       "      <th>3</th>\n",
       "      <td>ba78997921bbcdc1373bb41e913ab953</td>\n",
       "      <td>1</td>\n",
       "      <td>credit_card</td>\n",
       "      <td>8</td>\n",
       "      <td>107.78</td>\n",
       "    </tr>\n",
       "    <tr>\n",
       "      <th>4</th>\n",
       "      <td>42fdf880ba16b47b59251dd489d4441a</td>\n",
       "      <td>1</td>\n",
       "      <td>credit_card</td>\n",
       "      <td>2</td>\n",
       "      <td>128.45</td>\n",
       "    </tr>\n",
       "  </tbody>\n",
       "</table>\n",
       "</div>"
      ],
      "text/plain": [
       "                           order_id  payment_sequential payment_type  \\\n",
       "0  b81ef226f3fe1789b1e8b2acac839d17                   1  credit_card   \n",
       "1  a9810da82917af2d9aefd1278f1dcfa0                   1  credit_card   \n",
       "2  25e8ea4e93396b6fa0d3dd708e76c1bd                   1  credit_card   \n",
       "3  ba78997921bbcdc1373bb41e913ab953                   1  credit_card   \n",
       "4  42fdf880ba16b47b59251dd489d4441a                   1  credit_card   \n",
       "\n",
       "   payment_installments  payment_value  \n",
       "0                     8          99.33  \n",
       "1                     1          24.39  \n",
       "2                     1          65.71  \n",
       "3                     8         107.78  \n",
       "4                     2         128.45  "
      ]
     },
     "execution_count": 73,
     "metadata": {},
     "output_type": "execute_result"
    }
   ],
   "source": [
    "order_payments_df = pd.read_csv(\"https://raw.githubusercontent.com/Bayu-DanuArtha/Dataset-Bangkit/main/E-Commerce_Dataset/order_payments_dataset.csv\")\n",
    "order_payments_df.head()"
   ]
  },
  {
   "cell_type": "markdown",
   "id": "f6ec0af3",
   "metadata": {},
   "source": [
    "#### Load Dataset Order Reviews"
   ]
  },
  {
   "cell_type": "code",
   "execution_count": 74,
   "id": "9611b2f4",
   "metadata": {},
   "outputs": [
    {
     "data": {
      "text/html": [
       "<div>\n",
       "<style scoped>\n",
       "    .dataframe tbody tr th:only-of-type {\n",
       "        vertical-align: middle;\n",
       "    }\n",
       "\n",
       "    .dataframe tbody tr th {\n",
       "        vertical-align: top;\n",
       "    }\n",
       "\n",
       "    .dataframe thead th {\n",
       "        text-align: right;\n",
       "    }\n",
       "</style>\n",
       "<table border=\"1\" class=\"dataframe\">\n",
       "  <thead>\n",
       "    <tr style=\"text-align: right;\">\n",
       "      <th></th>\n",
       "      <th>review_id</th>\n",
       "      <th>order_id</th>\n",
       "      <th>review_score</th>\n",
       "      <th>review_comment_title</th>\n",
       "      <th>review_comment_message</th>\n",
       "      <th>review_creation_date</th>\n",
       "      <th>review_answer_timestamp</th>\n",
       "    </tr>\n",
       "  </thead>\n",
       "  <tbody>\n",
       "    <tr>\n",
       "      <th>0</th>\n",
       "      <td>7bc2406110b926393aa56f80a40eba40</td>\n",
       "      <td>73fc7af87114b39712e6da79b0a377eb</td>\n",
       "      <td>4</td>\n",
       "      <td>NaN</td>\n",
       "      <td>NaN</td>\n",
       "      <td>2018-01-18 00:00:00</td>\n",
       "      <td>2018-01-18 21:46:59</td>\n",
       "    </tr>\n",
       "    <tr>\n",
       "      <th>1</th>\n",
       "      <td>80e641a11e56f04c1ad469d5645fdfde</td>\n",
       "      <td>a548910a1c6147796b98fdf73dbeba33</td>\n",
       "      <td>5</td>\n",
       "      <td>NaN</td>\n",
       "      <td>NaN</td>\n",
       "      <td>2018-03-10 00:00:00</td>\n",
       "      <td>2018-03-11 03:05:13</td>\n",
       "    </tr>\n",
       "    <tr>\n",
       "      <th>2</th>\n",
       "      <td>228ce5500dc1d8e020d8d1322874b6f0</td>\n",
       "      <td>f9e4b658b201a9f2ecdecbb34bed034b</td>\n",
       "      <td>5</td>\n",
       "      <td>NaN</td>\n",
       "      <td>NaN</td>\n",
       "      <td>2018-02-17 00:00:00</td>\n",
       "      <td>2018-02-18 14:36:24</td>\n",
       "    </tr>\n",
       "    <tr>\n",
       "      <th>3</th>\n",
       "      <td>e64fb393e7b32834bb789ff8bb30750e</td>\n",
       "      <td>658677c97b385a9be170737859d3511b</td>\n",
       "      <td>5</td>\n",
       "      <td>NaN</td>\n",
       "      <td>Recebi bem antes do prazo estipulado.</td>\n",
       "      <td>2017-04-21 00:00:00</td>\n",
       "      <td>2017-04-21 22:02:06</td>\n",
       "    </tr>\n",
       "    <tr>\n",
       "      <th>4</th>\n",
       "      <td>f7c4243c7fe1938f181bec41a392bdeb</td>\n",
       "      <td>8e6bfb81e283fa7e4f11123a3fb894f1</td>\n",
       "      <td>5</td>\n",
       "      <td>NaN</td>\n",
       "      <td>Parabéns lojas lannister adorei comprar pela I...</td>\n",
       "      <td>2018-03-01 00:00:00</td>\n",
       "      <td>2018-03-02 10:26:53</td>\n",
       "    </tr>\n",
       "  </tbody>\n",
       "</table>\n",
       "</div>"
      ],
      "text/plain": [
       "                          review_id                          order_id  \\\n",
       "0  7bc2406110b926393aa56f80a40eba40  73fc7af87114b39712e6da79b0a377eb   \n",
       "1  80e641a11e56f04c1ad469d5645fdfde  a548910a1c6147796b98fdf73dbeba33   \n",
       "2  228ce5500dc1d8e020d8d1322874b6f0  f9e4b658b201a9f2ecdecbb34bed034b   \n",
       "3  e64fb393e7b32834bb789ff8bb30750e  658677c97b385a9be170737859d3511b   \n",
       "4  f7c4243c7fe1938f181bec41a392bdeb  8e6bfb81e283fa7e4f11123a3fb894f1   \n",
       "\n",
       "   review_score review_comment_title  \\\n",
       "0             4                  NaN   \n",
       "1             5                  NaN   \n",
       "2             5                  NaN   \n",
       "3             5                  NaN   \n",
       "4             5                  NaN   \n",
       "\n",
       "                              review_comment_message review_creation_date  \\\n",
       "0                                                NaN  2018-01-18 00:00:00   \n",
       "1                                                NaN  2018-03-10 00:00:00   \n",
       "2                                                NaN  2018-02-17 00:00:00   \n",
       "3              Recebi bem antes do prazo estipulado.  2017-04-21 00:00:00   \n",
       "4  Parabéns lojas lannister adorei comprar pela I...  2018-03-01 00:00:00   \n",
       "\n",
       "  review_answer_timestamp  \n",
       "0     2018-01-18 21:46:59  \n",
       "1     2018-03-11 03:05:13  \n",
       "2     2018-02-18 14:36:24  \n",
       "3     2017-04-21 22:02:06  \n",
       "4     2018-03-02 10:26:53  "
      ]
     },
     "execution_count": 74,
     "metadata": {},
     "output_type": "execute_result"
    }
   ],
   "source": [
    "order_reviews_df = pd.read_csv(\"https://raw.githubusercontent.com/Bayu-DanuArtha/Dataset-Bangkit/main/E-Commerce_Dataset/order_reviews_dataset.csv\")\n",
    "order_reviews_df.head()"
   ]
  },
  {
   "cell_type": "markdown",
   "id": "3a3ba8e7",
   "metadata": {},
   "source": [
    "#### Load Dataset Orders"
   ]
  },
  {
   "cell_type": "code",
   "execution_count": 75,
   "id": "851a50cc",
   "metadata": {},
   "outputs": [
    {
     "data": {
      "text/html": [
       "<div>\n",
       "<style scoped>\n",
       "    .dataframe tbody tr th:only-of-type {\n",
       "        vertical-align: middle;\n",
       "    }\n",
       "\n",
       "    .dataframe tbody tr th {\n",
       "        vertical-align: top;\n",
       "    }\n",
       "\n",
       "    .dataframe thead th {\n",
       "        text-align: right;\n",
       "    }\n",
       "</style>\n",
       "<table border=\"1\" class=\"dataframe\">\n",
       "  <thead>\n",
       "    <tr style=\"text-align: right;\">\n",
       "      <th></th>\n",
       "      <th>order_id</th>\n",
       "      <th>customer_id</th>\n",
       "      <th>order_status</th>\n",
       "      <th>order_purchase_timestamp</th>\n",
       "      <th>order_approved_at</th>\n",
       "      <th>order_delivered_carrier_date</th>\n",
       "      <th>order_delivered_customer_date</th>\n",
       "      <th>order_estimated_delivery_date</th>\n",
       "    </tr>\n",
       "  </thead>\n",
       "  <tbody>\n",
       "    <tr>\n",
       "      <th>0</th>\n",
       "      <td>e481f51cbdc54678b7cc49136f2d6af7</td>\n",
       "      <td>9ef432eb6251297304e76186b10a928d</td>\n",
       "      <td>delivered</td>\n",
       "      <td>2017-10-02 10:56:33</td>\n",
       "      <td>2017-10-02 11:07:15</td>\n",
       "      <td>2017-10-04 19:55:00</td>\n",
       "      <td>2017-10-10 21:25:13</td>\n",
       "      <td>2017-10-18 00:00:00</td>\n",
       "    </tr>\n",
       "    <tr>\n",
       "      <th>1</th>\n",
       "      <td>53cdb2fc8bc7dce0b6741e2150273451</td>\n",
       "      <td>b0830fb4747a6c6d20dea0b8c802d7ef</td>\n",
       "      <td>delivered</td>\n",
       "      <td>2018-07-24 20:41:37</td>\n",
       "      <td>2018-07-26 03:24:27</td>\n",
       "      <td>2018-07-26 14:31:00</td>\n",
       "      <td>2018-08-07 15:27:45</td>\n",
       "      <td>2018-08-13 00:00:00</td>\n",
       "    </tr>\n",
       "    <tr>\n",
       "      <th>2</th>\n",
       "      <td>47770eb9100c2d0c44946d9cf07ec65d</td>\n",
       "      <td>41ce2a54c0b03bf3443c3d931a367089</td>\n",
       "      <td>delivered</td>\n",
       "      <td>2018-08-08 08:38:49</td>\n",
       "      <td>2018-08-08 08:55:23</td>\n",
       "      <td>2018-08-08 13:50:00</td>\n",
       "      <td>2018-08-17 18:06:29</td>\n",
       "      <td>2018-09-04 00:00:00</td>\n",
       "    </tr>\n",
       "    <tr>\n",
       "      <th>3</th>\n",
       "      <td>949d5b44dbf5de918fe9c16f97b45f8a</td>\n",
       "      <td>f88197465ea7920adcdbec7375364d82</td>\n",
       "      <td>delivered</td>\n",
       "      <td>2017-11-18 19:28:06</td>\n",
       "      <td>2017-11-18 19:45:59</td>\n",
       "      <td>2017-11-22 13:39:59</td>\n",
       "      <td>2017-12-02 00:28:42</td>\n",
       "      <td>2017-12-15 00:00:00</td>\n",
       "    </tr>\n",
       "    <tr>\n",
       "      <th>4</th>\n",
       "      <td>ad21c59c0840e6cb83a9ceb5573f8159</td>\n",
       "      <td>8ab97904e6daea8866dbdbc4fb7aad2c</td>\n",
       "      <td>delivered</td>\n",
       "      <td>2018-02-13 21:18:39</td>\n",
       "      <td>2018-02-13 22:20:29</td>\n",
       "      <td>2018-02-14 19:46:34</td>\n",
       "      <td>2018-02-16 18:17:02</td>\n",
       "      <td>2018-02-26 00:00:00</td>\n",
       "    </tr>\n",
       "  </tbody>\n",
       "</table>\n",
       "</div>"
      ],
      "text/plain": [
       "                           order_id                       customer_id  \\\n",
       "0  e481f51cbdc54678b7cc49136f2d6af7  9ef432eb6251297304e76186b10a928d   \n",
       "1  53cdb2fc8bc7dce0b6741e2150273451  b0830fb4747a6c6d20dea0b8c802d7ef   \n",
       "2  47770eb9100c2d0c44946d9cf07ec65d  41ce2a54c0b03bf3443c3d931a367089   \n",
       "3  949d5b44dbf5de918fe9c16f97b45f8a  f88197465ea7920adcdbec7375364d82   \n",
       "4  ad21c59c0840e6cb83a9ceb5573f8159  8ab97904e6daea8866dbdbc4fb7aad2c   \n",
       "\n",
       "  order_status order_purchase_timestamp    order_approved_at  \\\n",
       "0    delivered      2017-10-02 10:56:33  2017-10-02 11:07:15   \n",
       "1    delivered      2018-07-24 20:41:37  2018-07-26 03:24:27   \n",
       "2    delivered      2018-08-08 08:38:49  2018-08-08 08:55:23   \n",
       "3    delivered      2017-11-18 19:28:06  2017-11-18 19:45:59   \n",
       "4    delivered      2018-02-13 21:18:39  2018-02-13 22:20:29   \n",
       "\n",
       "  order_delivered_carrier_date order_delivered_customer_date  \\\n",
       "0          2017-10-04 19:55:00           2017-10-10 21:25:13   \n",
       "1          2018-07-26 14:31:00           2018-08-07 15:27:45   \n",
       "2          2018-08-08 13:50:00           2018-08-17 18:06:29   \n",
       "3          2017-11-22 13:39:59           2017-12-02 00:28:42   \n",
       "4          2018-02-14 19:46:34           2018-02-16 18:17:02   \n",
       "\n",
       "  order_estimated_delivery_date  \n",
       "0           2017-10-18 00:00:00  \n",
       "1           2018-08-13 00:00:00  \n",
       "2           2018-09-04 00:00:00  \n",
       "3           2017-12-15 00:00:00  \n",
       "4           2018-02-26 00:00:00  "
      ]
     },
     "execution_count": 75,
     "metadata": {},
     "output_type": "execute_result"
    }
   ],
   "source": [
    "orders_df = pd.read_csv(\"https://raw.githubusercontent.com/Bayu-DanuArtha/Dataset-Bangkit/main/E-Commerce_Dataset/orders_dataset.csv\")\n",
    "orders_df.head()"
   ]
  },
  {
   "cell_type": "markdown",
   "id": "8da9f3a5",
   "metadata": {},
   "source": [
    "#### Load Dataset Product Category Name"
   ]
  },
  {
   "cell_type": "code",
   "execution_count": 76,
   "id": "07c7c9e2",
   "metadata": {},
   "outputs": [
    {
     "data": {
      "text/html": [
       "<div>\n",
       "<style scoped>\n",
       "    .dataframe tbody tr th:only-of-type {\n",
       "        vertical-align: middle;\n",
       "    }\n",
       "\n",
       "    .dataframe tbody tr th {\n",
       "        vertical-align: top;\n",
       "    }\n",
       "\n",
       "    .dataframe thead th {\n",
       "        text-align: right;\n",
       "    }\n",
       "</style>\n",
       "<table border=\"1\" class=\"dataframe\">\n",
       "  <thead>\n",
       "    <tr style=\"text-align: right;\">\n",
       "      <th></th>\n",
       "      <th>product_category_name</th>\n",
       "      <th>product_category_name_english</th>\n",
       "    </tr>\n",
       "  </thead>\n",
       "  <tbody>\n",
       "    <tr>\n",
       "      <th>0</th>\n",
       "      <td>beleza_saude</td>\n",
       "      <td>health_beauty</td>\n",
       "    </tr>\n",
       "    <tr>\n",
       "      <th>1</th>\n",
       "      <td>informatica_acessorios</td>\n",
       "      <td>computers_accessories</td>\n",
       "    </tr>\n",
       "    <tr>\n",
       "      <th>2</th>\n",
       "      <td>automotivo</td>\n",
       "      <td>auto</td>\n",
       "    </tr>\n",
       "    <tr>\n",
       "      <th>3</th>\n",
       "      <td>cama_mesa_banho</td>\n",
       "      <td>bed_bath_table</td>\n",
       "    </tr>\n",
       "    <tr>\n",
       "      <th>4</th>\n",
       "      <td>moveis_decoracao</td>\n",
       "      <td>furniture_decor</td>\n",
       "    </tr>\n",
       "  </tbody>\n",
       "</table>\n",
       "</div>"
      ],
      "text/plain": [
       "    product_category_name product_category_name_english\n",
       "0            beleza_saude                 health_beauty\n",
       "1  informatica_acessorios         computers_accessories\n",
       "2              automotivo                          auto\n",
       "3         cama_mesa_banho                bed_bath_table\n",
       "4        moveis_decoracao               furniture_decor"
      ]
     },
     "execution_count": 76,
     "metadata": {},
     "output_type": "execute_result"
    }
   ],
   "source": [
    "product_category_df = pd.read_csv(\"https://raw.githubusercontent.com/Bayu-DanuArtha/Dataset-Bangkit/main/E-Commerce_Dataset/product_category_name_translation.csv\")\n",
    "product_category_df.head()"
   ]
  },
  {
   "cell_type": "markdown",
   "id": "9ef9ae38",
   "metadata": {},
   "source": [
    "#### Load Dataset Products"
   ]
  },
  {
   "cell_type": "code",
   "execution_count": 77,
   "id": "eddbf8d1",
   "metadata": {},
   "outputs": [
    {
     "data": {
      "text/html": [
       "<div>\n",
       "<style scoped>\n",
       "    .dataframe tbody tr th:only-of-type {\n",
       "        vertical-align: middle;\n",
       "    }\n",
       "\n",
       "    .dataframe tbody tr th {\n",
       "        vertical-align: top;\n",
       "    }\n",
       "\n",
       "    .dataframe thead th {\n",
       "        text-align: right;\n",
       "    }\n",
       "</style>\n",
       "<table border=\"1\" class=\"dataframe\">\n",
       "  <thead>\n",
       "    <tr style=\"text-align: right;\">\n",
       "      <th></th>\n",
       "      <th>product_id</th>\n",
       "      <th>product_category_name</th>\n",
       "      <th>product_name_lenght</th>\n",
       "      <th>product_description_lenght</th>\n",
       "      <th>product_photos_qty</th>\n",
       "      <th>product_weight_g</th>\n",
       "      <th>product_length_cm</th>\n",
       "      <th>product_height_cm</th>\n",
       "      <th>product_width_cm</th>\n",
       "    </tr>\n",
       "  </thead>\n",
       "  <tbody>\n",
       "    <tr>\n",
       "      <th>0</th>\n",
       "      <td>1e9e8ef04dbcff4541ed26657ea517e5</td>\n",
       "      <td>perfumaria</td>\n",
       "      <td>40.0</td>\n",
       "      <td>287.0</td>\n",
       "      <td>1.0</td>\n",
       "      <td>225.0</td>\n",
       "      <td>16.0</td>\n",
       "      <td>10.0</td>\n",
       "      <td>14.0</td>\n",
       "    </tr>\n",
       "    <tr>\n",
       "      <th>1</th>\n",
       "      <td>3aa071139cb16b67ca9e5dea641aaa2f</td>\n",
       "      <td>artes</td>\n",
       "      <td>44.0</td>\n",
       "      <td>276.0</td>\n",
       "      <td>1.0</td>\n",
       "      <td>1000.0</td>\n",
       "      <td>30.0</td>\n",
       "      <td>18.0</td>\n",
       "      <td>20.0</td>\n",
       "    </tr>\n",
       "    <tr>\n",
       "      <th>2</th>\n",
       "      <td>96bd76ec8810374ed1b65e291975717f</td>\n",
       "      <td>esporte_lazer</td>\n",
       "      <td>46.0</td>\n",
       "      <td>250.0</td>\n",
       "      <td>1.0</td>\n",
       "      <td>154.0</td>\n",
       "      <td>18.0</td>\n",
       "      <td>9.0</td>\n",
       "      <td>15.0</td>\n",
       "    </tr>\n",
       "    <tr>\n",
       "      <th>3</th>\n",
       "      <td>cef67bcfe19066a932b7673e239eb23d</td>\n",
       "      <td>bebes</td>\n",
       "      <td>27.0</td>\n",
       "      <td>261.0</td>\n",
       "      <td>1.0</td>\n",
       "      <td>371.0</td>\n",
       "      <td>26.0</td>\n",
       "      <td>4.0</td>\n",
       "      <td>26.0</td>\n",
       "    </tr>\n",
       "    <tr>\n",
       "      <th>4</th>\n",
       "      <td>9dc1a7de274444849c219cff195d0b71</td>\n",
       "      <td>utilidades_domesticas</td>\n",
       "      <td>37.0</td>\n",
       "      <td>402.0</td>\n",
       "      <td>4.0</td>\n",
       "      <td>625.0</td>\n",
       "      <td>20.0</td>\n",
       "      <td>17.0</td>\n",
       "      <td>13.0</td>\n",
       "    </tr>\n",
       "  </tbody>\n",
       "</table>\n",
       "</div>"
      ],
      "text/plain": [
       "                         product_id  product_category_name  \\\n",
       "0  1e9e8ef04dbcff4541ed26657ea517e5             perfumaria   \n",
       "1  3aa071139cb16b67ca9e5dea641aaa2f                  artes   \n",
       "2  96bd76ec8810374ed1b65e291975717f          esporte_lazer   \n",
       "3  cef67bcfe19066a932b7673e239eb23d                  bebes   \n",
       "4  9dc1a7de274444849c219cff195d0b71  utilidades_domesticas   \n",
       "\n",
       "   product_name_lenght  product_description_lenght  product_photos_qty  \\\n",
       "0                 40.0                       287.0                 1.0   \n",
       "1                 44.0                       276.0                 1.0   \n",
       "2                 46.0                       250.0                 1.0   \n",
       "3                 27.0                       261.0                 1.0   \n",
       "4                 37.0                       402.0                 4.0   \n",
       "\n",
       "   product_weight_g  product_length_cm  product_height_cm  product_width_cm  \n",
       "0             225.0               16.0               10.0              14.0  \n",
       "1            1000.0               30.0               18.0              20.0  \n",
       "2             154.0               18.0                9.0              15.0  \n",
       "3             371.0               26.0                4.0              26.0  \n",
       "4             625.0               20.0               17.0              13.0  "
      ]
     },
     "execution_count": 77,
     "metadata": {},
     "output_type": "execute_result"
    }
   ],
   "source": [
    "products_df = pd.read_csv(\"https://raw.githubusercontent.com/Bayu-DanuArtha/Dataset-Bangkit/main/E-Commerce_Dataset/products_dataset.csv\")\n",
    "products_df.head()"
   ]
  },
  {
   "cell_type": "markdown",
   "id": "e5b9c571",
   "metadata": {},
   "source": [
    "#### Load Dataset Sellers"
   ]
  },
  {
   "cell_type": "code",
   "execution_count": 78,
   "id": "1615edc8",
   "metadata": {},
   "outputs": [
    {
     "data": {
      "text/html": [
       "<div>\n",
       "<style scoped>\n",
       "    .dataframe tbody tr th:only-of-type {\n",
       "        vertical-align: middle;\n",
       "    }\n",
       "\n",
       "    .dataframe tbody tr th {\n",
       "        vertical-align: top;\n",
       "    }\n",
       "\n",
       "    .dataframe thead th {\n",
       "        text-align: right;\n",
       "    }\n",
       "</style>\n",
       "<table border=\"1\" class=\"dataframe\">\n",
       "  <thead>\n",
       "    <tr style=\"text-align: right;\">\n",
       "      <th></th>\n",
       "      <th>seller_id</th>\n",
       "      <th>seller_zip_code_prefix</th>\n",
       "      <th>seller_city</th>\n",
       "      <th>seller_state</th>\n",
       "    </tr>\n",
       "  </thead>\n",
       "  <tbody>\n",
       "    <tr>\n",
       "      <th>0</th>\n",
       "      <td>3442f8959a84dea7ee197c632cb2df15</td>\n",
       "      <td>13023</td>\n",
       "      <td>campinas</td>\n",
       "      <td>SP</td>\n",
       "    </tr>\n",
       "    <tr>\n",
       "      <th>1</th>\n",
       "      <td>d1b65fc7debc3361ea86b5f14c68d2e2</td>\n",
       "      <td>13844</td>\n",
       "      <td>mogi guacu</td>\n",
       "      <td>SP</td>\n",
       "    </tr>\n",
       "    <tr>\n",
       "      <th>2</th>\n",
       "      <td>ce3ad9de960102d0677a81f5d0bb7b2d</td>\n",
       "      <td>20031</td>\n",
       "      <td>rio de janeiro</td>\n",
       "      <td>RJ</td>\n",
       "    </tr>\n",
       "    <tr>\n",
       "      <th>3</th>\n",
       "      <td>c0f3eea2e14555b6faeea3dd58c1b1c3</td>\n",
       "      <td>4195</td>\n",
       "      <td>sao paulo</td>\n",
       "      <td>SP</td>\n",
       "    </tr>\n",
       "    <tr>\n",
       "      <th>4</th>\n",
       "      <td>51a04a8a6bdcb23deccc82b0b80742cf</td>\n",
       "      <td>12914</td>\n",
       "      <td>braganca paulista</td>\n",
       "      <td>SP</td>\n",
       "    </tr>\n",
       "  </tbody>\n",
       "</table>\n",
       "</div>"
      ],
      "text/plain": [
       "                          seller_id  seller_zip_code_prefix  \\\n",
       "0  3442f8959a84dea7ee197c632cb2df15                   13023   \n",
       "1  d1b65fc7debc3361ea86b5f14c68d2e2                   13844   \n",
       "2  ce3ad9de960102d0677a81f5d0bb7b2d                   20031   \n",
       "3  c0f3eea2e14555b6faeea3dd58c1b1c3                    4195   \n",
       "4  51a04a8a6bdcb23deccc82b0b80742cf                   12914   \n",
       "\n",
       "         seller_city seller_state  \n",
       "0           campinas           SP  \n",
       "1         mogi guacu           SP  \n",
       "2     rio de janeiro           RJ  \n",
       "3          sao paulo           SP  \n",
       "4  braganca paulista           SP  "
      ]
     },
     "execution_count": 78,
     "metadata": {},
     "output_type": "execute_result"
    }
   ],
   "source": [
    "sellers_df = pd.read_csv(\"https://raw.githubusercontent.com/Bayu-DanuArtha/Dataset-Bangkit/main/E-Commerce_Dataset/sellers_dataset.csv\")\n",
    "sellers_df.head()"
   ]
  },
  {
   "cell_type": "markdown",
   "id": "353ec05c",
   "metadata": {},
   "source": [
    "## Assessing Data"
   ]
  },
  {
   "cell_type": "markdown",
   "id": "65d13f04",
   "metadata": {},
   "source": [
    "### Data in Customer Dataset"
   ]
  },
  {
   "cell_type": "markdown",
   "id": "adf25b44",
   "metadata": {},
   "source": [
    "#### Cheking DataFrame information"
   ]
  },
  {
   "cell_type": "code",
   "execution_count": 79,
   "id": "b793e46f",
   "metadata": {},
   "outputs": [
    {
     "name": "stdout",
     "output_type": "stream",
     "text": [
      "<class 'pandas.core.frame.DataFrame'>\n",
      "RangeIndex: 99441 entries, 0 to 99440\n",
      "Data columns (total 5 columns):\n",
      " #   Column                    Non-Null Count  Dtype \n",
      "---  ------                    --------------  ----- \n",
      " 0   customer_id               99441 non-null  object\n",
      " 1   customer_unique_id        99441 non-null  object\n",
      " 2   customer_zip_code_prefix  99441 non-null  int64 \n",
      " 3   customer_city             99441 non-null  object\n",
      " 4   customer_state            99441 non-null  object\n",
      "dtypes: int64(1), object(4)\n",
      "memory usage: 3.8+ MB\n"
     ]
    }
   ],
   "source": [
    "customers_df.info()"
   ]
  },
  {
   "cell_type": "markdown",
   "id": "a50f8c8f",
   "metadata": {},
   "source": [
    "#### Cheking Duplicate Data"
   ]
  },
  {
   "cell_type": "code",
   "execution_count": 80,
   "id": "71d06ad1",
   "metadata": {},
   "outputs": [
    {
     "name": "stdout",
     "output_type": "stream",
     "text": [
      "Number of data deduplication:  0\n"
     ]
    }
   ],
   "source": [
    "print(\"Number of data deduplication: \", customers_df.duplicated().sum())"
   ]
  },
  {
   "cell_type": "markdown",
   "id": "22534194",
   "metadata": {},
   "source": [
    "#### Cheking Statistical Parameters"
   ]
  },
  {
   "cell_type": "code",
   "execution_count": 81,
   "id": "bb971417",
   "metadata": {},
   "outputs": [
    {
     "data": {
      "text/html": [
       "<div>\n",
       "<style scoped>\n",
       "    .dataframe tbody tr th:only-of-type {\n",
       "        vertical-align: middle;\n",
       "    }\n",
       "\n",
       "    .dataframe tbody tr th {\n",
       "        vertical-align: top;\n",
       "    }\n",
       "\n",
       "    .dataframe thead th {\n",
       "        text-align: right;\n",
       "    }\n",
       "</style>\n",
       "<table border=\"1\" class=\"dataframe\">\n",
       "  <thead>\n",
       "    <tr style=\"text-align: right;\">\n",
       "      <th></th>\n",
       "      <th>customer_zip_code_prefix</th>\n",
       "    </tr>\n",
       "  </thead>\n",
       "  <tbody>\n",
       "    <tr>\n",
       "      <th>count</th>\n",
       "      <td>99441.000000</td>\n",
       "    </tr>\n",
       "    <tr>\n",
       "      <th>mean</th>\n",
       "      <td>35137.474583</td>\n",
       "    </tr>\n",
       "    <tr>\n",
       "      <th>std</th>\n",
       "      <td>29797.938996</td>\n",
       "    </tr>\n",
       "    <tr>\n",
       "      <th>min</th>\n",
       "      <td>1003.000000</td>\n",
       "    </tr>\n",
       "    <tr>\n",
       "      <th>25%</th>\n",
       "      <td>11347.000000</td>\n",
       "    </tr>\n",
       "    <tr>\n",
       "      <th>50%</th>\n",
       "      <td>24416.000000</td>\n",
       "    </tr>\n",
       "    <tr>\n",
       "      <th>75%</th>\n",
       "      <td>58900.000000</td>\n",
       "    </tr>\n",
       "    <tr>\n",
       "      <th>max</th>\n",
       "      <td>99990.000000</td>\n",
       "    </tr>\n",
       "  </tbody>\n",
       "</table>\n",
       "</div>"
      ],
      "text/plain": [
       "       customer_zip_code_prefix\n",
       "count              99441.000000\n",
       "mean               35137.474583\n",
       "std                29797.938996\n",
       "min                 1003.000000\n",
       "25%                11347.000000\n",
       "50%                24416.000000\n",
       "75%                58900.000000\n",
       "max                99990.000000"
      ]
     },
     "execution_count": 81,
     "metadata": {},
     "output_type": "execute_result"
    }
   ],
   "source": [
    "customers_df.describe()"
   ]
  },
  {
   "cell_type": "markdown",
   "id": "9e219478",
   "metadata": {},
   "source": [
    "### Data in Geolocation Dataset"
   ]
  },
  {
   "cell_type": "markdown",
   "id": "a7560c23",
   "metadata": {},
   "source": [
    "#### Cheking DataFrame information"
   ]
  },
  {
   "cell_type": "code",
   "execution_count": 82,
   "id": "b4c94724",
   "metadata": {},
   "outputs": [
    {
     "name": "stdout",
     "output_type": "stream",
     "text": [
      "<class 'pandas.core.frame.DataFrame'>\n",
      "RangeIndex: 1000163 entries, 0 to 1000162\n",
      "Data columns (total 5 columns):\n",
      " #   Column                       Non-Null Count    Dtype  \n",
      "---  ------                       --------------    -----  \n",
      " 0   geolocation_zip_code_prefix  1000163 non-null  int64  \n",
      " 1   geolocation_lat              1000163 non-null  float64\n",
      " 2   geolocation_lng              1000163 non-null  float64\n",
      " 3   geolocation_city             1000163 non-null  object \n",
      " 4   geolocation_state            1000163 non-null  object \n",
      "dtypes: float64(2), int64(1), object(2)\n",
      "memory usage: 38.2+ MB\n"
     ]
    }
   ],
   "source": [
    "geolocation_df.info()"
   ]
  },
  {
   "cell_type": "markdown",
   "id": "05e6a1f0",
   "metadata": {},
   "source": [
    "#### Cheking Duplicate Data"
   ]
  },
  {
   "cell_type": "code",
   "execution_count": 83,
   "id": "a31d3485",
   "metadata": {},
   "outputs": [
    {
     "name": "stdout",
     "output_type": "stream",
     "text": [
      "Number of data deduplication:  261831\n"
     ]
    }
   ],
   "source": [
    "print(\"Number of data deduplication: \", geolocation_df.duplicated().sum())"
   ]
  },
  {
   "cell_type": "markdown",
   "id": "a61c7c38",
   "metadata": {},
   "source": [
    "#### Cheking Statistical Parameters"
   ]
  },
  {
   "cell_type": "code",
   "execution_count": 84,
   "id": "8a32b5da",
   "metadata": {},
   "outputs": [
    {
     "data": {
      "text/html": [
       "<div>\n",
       "<style scoped>\n",
       "    .dataframe tbody tr th:only-of-type {\n",
       "        vertical-align: middle;\n",
       "    }\n",
       "\n",
       "    .dataframe tbody tr th {\n",
       "        vertical-align: top;\n",
       "    }\n",
       "\n",
       "    .dataframe thead th {\n",
       "        text-align: right;\n",
       "    }\n",
       "</style>\n",
       "<table border=\"1\" class=\"dataframe\">\n",
       "  <thead>\n",
       "    <tr style=\"text-align: right;\">\n",
       "      <th></th>\n",
       "      <th>geolocation_zip_code_prefix</th>\n",
       "      <th>geolocation_lat</th>\n",
       "      <th>geolocation_lng</th>\n",
       "    </tr>\n",
       "  </thead>\n",
       "  <tbody>\n",
       "    <tr>\n",
       "      <th>count</th>\n",
       "      <td>1.000163e+06</td>\n",
       "      <td>1.000163e+06</td>\n",
       "      <td>1.000163e+06</td>\n",
       "    </tr>\n",
       "    <tr>\n",
       "      <th>mean</th>\n",
       "      <td>3.657417e+04</td>\n",
       "      <td>-2.117615e+01</td>\n",
       "      <td>-4.639054e+01</td>\n",
       "    </tr>\n",
       "    <tr>\n",
       "      <th>std</th>\n",
       "      <td>3.054934e+04</td>\n",
       "      <td>5.715866e+00</td>\n",
       "      <td>4.269748e+00</td>\n",
       "    </tr>\n",
       "    <tr>\n",
       "      <th>min</th>\n",
       "      <td>1.001000e+03</td>\n",
       "      <td>-3.660537e+01</td>\n",
       "      <td>-1.014668e+02</td>\n",
       "    </tr>\n",
       "    <tr>\n",
       "      <th>25%</th>\n",
       "      <td>1.107500e+04</td>\n",
       "      <td>-2.360355e+01</td>\n",
       "      <td>-4.857317e+01</td>\n",
       "    </tr>\n",
       "    <tr>\n",
       "      <th>50%</th>\n",
       "      <td>2.653000e+04</td>\n",
       "      <td>-2.291938e+01</td>\n",
       "      <td>-4.663788e+01</td>\n",
       "    </tr>\n",
       "    <tr>\n",
       "      <th>75%</th>\n",
       "      <td>6.350400e+04</td>\n",
       "      <td>-1.997962e+01</td>\n",
       "      <td>-4.376771e+01</td>\n",
       "    </tr>\n",
       "    <tr>\n",
       "      <th>max</th>\n",
       "      <td>9.999000e+04</td>\n",
       "      <td>4.506593e+01</td>\n",
       "      <td>1.211054e+02</td>\n",
       "    </tr>\n",
       "  </tbody>\n",
       "</table>\n",
       "</div>"
      ],
      "text/plain": [
       "       geolocation_zip_code_prefix  geolocation_lat  geolocation_lng\n",
       "count                 1.000163e+06     1.000163e+06     1.000163e+06\n",
       "mean                  3.657417e+04    -2.117615e+01    -4.639054e+01\n",
       "std                   3.054934e+04     5.715866e+00     4.269748e+00\n",
       "min                   1.001000e+03    -3.660537e+01    -1.014668e+02\n",
       "25%                   1.107500e+04    -2.360355e+01    -4.857317e+01\n",
       "50%                   2.653000e+04    -2.291938e+01    -4.663788e+01\n",
       "75%                   6.350400e+04    -1.997962e+01    -4.376771e+01\n",
       "max                   9.999000e+04     4.506593e+01     1.211054e+02"
      ]
     },
     "execution_count": 84,
     "metadata": {},
     "output_type": "execute_result"
    }
   ],
   "source": [
    "geolocation_df.describe()"
   ]
  },
  {
   "cell_type": "markdown",
   "id": "a799e516",
   "metadata": {},
   "source": [
    "### Data in Order Item Dataset"
   ]
  },
  {
   "cell_type": "markdown",
   "id": "093f11ba",
   "metadata": {},
   "source": [
    "#### Cheking DataFrame information"
   ]
  },
  {
   "cell_type": "code",
   "execution_count": 85,
   "id": "54402cd6",
   "metadata": {},
   "outputs": [
    {
     "name": "stdout",
     "output_type": "stream",
     "text": [
      "<class 'pandas.core.frame.DataFrame'>\n",
      "RangeIndex: 112650 entries, 0 to 112649\n",
      "Data columns (total 7 columns):\n",
      " #   Column               Non-Null Count   Dtype  \n",
      "---  ------               --------------   -----  \n",
      " 0   order_id             112650 non-null  object \n",
      " 1   order_item_id        112650 non-null  int64  \n",
      " 2   product_id           112650 non-null  object \n",
      " 3   seller_id            112650 non-null  object \n",
      " 4   shipping_limit_date  112650 non-null  object \n",
      " 5   price                112650 non-null  float64\n",
      " 6   freight_value        112650 non-null  float64\n",
      "dtypes: float64(2), int64(1), object(4)\n",
      "memory usage: 6.0+ MB\n"
     ]
    }
   ],
   "source": [
    "order_item_df.info()"
   ]
  },
  {
   "cell_type": "markdown",
   "id": "39b433b7",
   "metadata": {},
   "source": [
    "#### Cheking Duplicate Data"
   ]
  },
  {
   "cell_type": "code",
   "execution_count": 86,
   "id": "ce3021a7",
   "metadata": {},
   "outputs": [
    {
     "name": "stdout",
     "output_type": "stream",
     "text": [
      "Number of data deduplication:  0\n"
     ]
    }
   ],
   "source": [
    "print(\"Number of data deduplication: \", order_item_df.duplicated().sum())"
   ]
  },
  {
   "cell_type": "markdown",
   "id": "00c3d7fd",
   "metadata": {},
   "source": [
    "#### Cheking Statistical Parameters"
   ]
  },
  {
   "cell_type": "code",
   "execution_count": 87,
   "id": "69c78aa9",
   "metadata": {},
   "outputs": [
    {
     "data": {
      "text/html": [
       "<div>\n",
       "<style scoped>\n",
       "    .dataframe tbody tr th:only-of-type {\n",
       "        vertical-align: middle;\n",
       "    }\n",
       "\n",
       "    .dataframe tbody tr th {\n",
       "        vertical-align: top;\n",
       "    }\n",
       "\n",
       "    .dataframe thead th {\n",
       "        text-align: right;\n",
       "    }\n",
       "</style>\n",
       "<table border=\"1\" class=\"dataframe\">\n",
       "  <thead>\n",
       "    <tr style=\"text-align: right;\">\n",
       "      <th></th>\n",
       "      <th>order_item_id</th>\n",
       "      <th>price</th>\n",
       "      <th>freight_value</th>\n",
       "    </tr>\n",
       "  </thead>\n",
       "  <tbody>\n",
       "    <tr>\n",
       "      <th>count</th>\n",
       "      <td>112650.000000</td>\n",
       "      <td>112650.000000</td>\n",
       "      <td>112650.000000</td>\n",
       "    </tr>\n",
       "    <tr>\n",
       "      <th>mean</th>\n",
       "      <td>1.197834</td>\n",
       "      <td>120.653739</td>\n",
       "      <td>19.990320</td>\n",
       "    </tr>\n",
       "    <tr>\n",
       "      <th>std</th>\n",
       "      <td>0.705124</td>\n",
       "      <td>183.633928</td>\n",
       "      <td>15.806405</td>\n",
       "    </tr>\n",
       "    <tr>\n",
       "      <th>min</th>\n",
       "      <td>1.000000</td>\n",
       "      <td>0.850000</td>\n",
       "      <td>0.000000</td>\n",
       "    </tr>\n",
       "    <tr>\n",
       "      <th>25%</th>\n",
       "      <td>1.000000</td>\n",
       "      <td>39.900000</td>\n",
       "      <td>13.080000</td>\n",
       "    </tr>\n",
       "    <tr>\n",
       "      <th>50%</th>\n",
       "      <td>1.000000</td>\n",
       "      <td>74.990000</td>\n",
       "      <td>16.260000</td>\n",
       "    </tr>\n",
       "    <tr>\n",
       "      <th>75%</th>\n",
       "      <td>1.000000</td>\n",
       "      <td>134.900000</td>\n",
       "      <td>21.150000</td>\n",
       "    </tr>\n",
       "    <tr>\n",
       "      <th>max</th>\n",
       "      <td>21.000000</td>\n",
       "      <td>6735.000000</td>\n",
       "      <td>409.680000</td>\n",
       "    </tr>\n",
       "  </tbody>\n",
       "</table>\n",
       "</div>"
      ],
      "text/plain": [
       "       order_item_id          price  freight_value\n",
       "count  112650.000000  112650.000000  112650.000000\n",
       "mean        1.197834     120.653739      19.990320\n",
       "std         0.705124     183.633928      15.806405\n",
       "min         1.000000       0.850000       0.000000\n",
       "25%         1.000000      39.900000      13.080000\n",
       "50%         1.000000      74.990000      16.260000\n",
       "75%         1.000000     134.900000      21.150000\n",
       "max        21.000000    6735.000000     409.680000"
      ]
     },
     "execution_count": 87,
     "metadata": {},
     "output_type": "execute_result"
    }
   ],
   "source": [
    "order_item_df.describe()"
   ]
  },
  {
   "cell_type": "markdown",
   "id": "a919f592",
   "metadata": {},
   "source": [
    "### Data in Order Payments Dataset"
   ]
  },
  {
   "cell_type": "markdown",
   "id": "42dea9de",
   "metadata": {},
   "source": [
    "#### Cheking DataFrame information"
   ]
  },
  {
   "cell_type": "code",
   "execution_count": 88,
   "id": "8feb8676",
   "metadata": {},
   "outputs": [
    {
     "name": "stdout",
     "output_type": "stream",
     "text": [
      "<class 'pandas.core.frame.DataFrame'>\n",
      "RangeIndex: 103886 entries, 0 to 103885\n",
      "Data columns (total 5 columns):\n",
      " #   Column                Non-Null Count   Dtype  \n",
      "---  ------                --------------   -----  \n",
      " 0   order_id              103886 non-null  object \n",
      " 1   payment_sequential    103886 non-null  int64  \n",
      " 2   payment_type          103886 non-null  object \n",
      " 3   payment_installments  103886 non-null  int64  \n",
      " 4   payment_value         103886 non-null  float64\n",
      "dtypes: float64(1), int64(2), object(2)\n",
      "memory usage: 4.0+ MB\n"
     ]
    }
   ],
   "source": [
    "order_payments_df.info()"
   ]
  },
  {
   "cell_type": "markdown",
   "id": "4869a224",
   "metadata": {},
   "source": [
    "#### Cheking Duplicate Data"
   ]
  },
  {
   "cell_type": "code",
   "execution_count": 89,
   "id": "0a355b06",
   "metadata": {},
   "outputs": [
    {
     "name": "stdout",
     "output_type": "stream",
     "text": [
      "Number of data deduplication:  0\n"
     ]
    }
   ],
   "source": [
    "print(\"Number of data deduplication: \", order_payments_df.duplicated().sum())"
   ]
  },
  {
   "cell_type": "markdown",
   "id": "00451e8c",
   "metadata": {},
   "source": [
    "#### Cheking Statistical Parameters"
   ]
  },
  {
   "cell_type": "code",
   "execution_count": 90,
   "id": "36cedf12",
   "metadata": {},
   "outputs": [
    {
     "data": {
      "text/html": [
       "<div>\n",
       "<style scoped>\n",
       "    .dataframe tbody tr th:only-of-type {\n",
       "        vertical-align: middle;\n",
       "    }\n",
       "\n",
       "    .dataframe tbody tr th {\n",
       "        vertical-align: top;\n",
       "    }\n",
       "\n",
       "    .dataframe thead th {\n",
       "        text-align: right;\n",
       "    }\n",
       "</style>\n",
       "<table border=\"1\" class=\"dataframe\">\n",
       "  <thead>\n",
       "    <tr style=\"text-align: right;\">\n",
       "      <th></th>\n",
       "      <th>payment_sequential</th>\n",
       "      <th>payment_installments</th>\n",
       "      <th>payment_value</th>\n",
       "    </tr>\n",
       "  </thead>\n",
       "  <tbody>\n",
       "    <tr>\n",
       "      <th>count</th>\n",
       "      <td>103886.000000</td>\n",
       "      <td>103886.000000</td>\n",
       "      <td>103886.000000</td>\n",
       "    </tr>\n",
       "    <tr>\n",
       "      <th>mean</th>\n",
       "      <td>1.092679</td>\n",
       "      <td>2.853349</td>\n",
       "      <td>154.100380</td>\n",
       "    </tr>\n",
       "    <tr>\n",
       "      <th>std</th>\n",
       "      <td>0.706584</td>\n",
       "      <td>2.687051</td>\n",
       "      <td>217.494064</td>\n",
       "    </tr>\n",
       "    <tr>\n",
       "      <th>min</th>\n",
       "      <td>1.000000</td>\n",
       "      <td>0.000000</td>\n",
       "      <td>0.000000</td>\n",
       "    </tr>\n",
       "    <tr>\n",
       "      <th>25%</th>\n",
       "      <td>1.000000</td>\n",
       "      <td>1.000000</td>\n",
       "      <td>56.790000</td>\n",
       "    </tr>\n",
       "    <tr>\n",
       "      <th>50%</th>\n",
       "      <td>1.000000</td>\n",
       "      <td>1.000000</td>\n",
       "      <td>100.000000</td>\n",
       "    </tr>\n",
       "    <tr>\n",
       "      <th>75%</th>\n",
       "      <td>1.000000</td>\n",
       "      <td>4.000000</td>\n",
       "      <td>171.837500</td>\n",
       "    </tr>\n",
       "    <tr>\n",
       "      <th>max</th>\n",
       "      <td>29.000000</td>\n",
       "      <td>24.000000</td>\n",
       "      <td>13664.080000</td>\n",
       "    </tr>\n",
       "  </tbody>\n",
       "</table>\n",
       "</div>"
      ],
      "text/plain": [
       "       payment_sequential  payment_installments  payment_value\n",
       "count       103886.000000         103886.000000  103886.000000\n",
       "mean             1.092679              2.853349     154.100380\n",
       "std              0.706584              2.687051     217.494064\n",
       "min              1.000000              0.000000       0.000000\n",
       "25%              1.000000              1.000000      56.790000\n",
       "50%              1.000000              1.000000     100.000000\n",
       "75%              1.000000              4.000000     171.837500\n",
       "max             29.000000             24.000000   13664.080000"
      ]
     },
     "execution_count": 90,
     "metadata": {},
     "output_type": "execute_result"
    }
   ],
   "source": [
    "order_payments_df.describe()"
   ]
  },
  {
   "cell_type": "markdown",
   "id": "89121b34",
   "metadata": {},
   "source": [
    "### Data in Order Reviews Dataset"
   ]
  },
  {
   "cell_type": "markdown",
   "id": "d4d98b6a",
   "metadata": {},
   "source": [
    "#### Cheking DataFrame information"
   ]
  },
  {
   "cell_type": "code",
   "execution_count": 91,
   "id": "5ddabb36",
   "metadata": {},
   "outputs": [
    {
     "name": "stdout",
     "output_type": "stream",
     "text": [
      "<class 'pandas.core.frame.DataFrame'>\n",
      "RangeIndex: 99224 entries, 0 to 99223\n",
      "Data columns (total 7 columns):\n",
      " #   Column                   Non-Null Count  Dtype \n",
      "---  ------                   --------------  ----- \n",
      " 0   review_id                99224 non-null  object\n",
      " 1   order_id                 99224 non-null  object\n",
      " 2   review_score             99224 non-null  int64 \n",
      " 3   review_comment_title     11568 non-null  object\n",
      " 4   review_comment_message   40977 non-null  object\n",
      " 5   review_creation_date     99224 non-null  object\n",
      " 6   review_answer_timestamp  99224 non-null  object\n",
      "dtypes: int64(1), object(6)\n",
      "memory usage: 5.3+ MB\n"
     ]
    }
   ],
   "source": [
    "order_reviews_df.info()"
   ]
  },
  {
   "cell_type": "markdown",
   "id": "8a3e58a7",
   "metadata": {},
   "source": [
    "#### Cheking Missing Value"
   ]
  },
  {
   "cell_type": "code",
   "execution_count": 92,
   "id": "e949ae6a",
   "metadata": {},
   "outputs": [
    {
     "data": {
      "text/plain": [
       "review_id                      0\n",
       "order_id                       0\n",
       "review_score                   0\n",
       "review_comment_title       87656\n",
       "review_comment_message     58247\n",
       "review_creation_date           0\n",
       "review_answer_timestamp        0\n",
       "dtype: int64"
      ]
     },
     "execution_count": 92,
     "metadata": {},
     "output_type": "execute_result"
    }
   ],
   "source": [
    "order_reviews_df.isna().sum()"
   ]
  },
  {
   "cell_type": "markdown",
   "id": "98a7c221",
   "metadata": {},
   "source": [
    "#### Cheking Duplicate Data"
   ]
  },
  {
   "cell_type": "code",
   "execution_count": 93,
   "id": "ef39053b",
   "metadata": {},
   "outputs": [
    {
     "name": "stdout",
     "output_type": "stream",
     "text": [
      "Number of data deduplication:  0\n"
     ]
    }
   ],
   "source": [
    "print(\"Number of data deduplication: \", order_reviews_df.duplicated().sum())"
   ]
  },
  {
   "cell_type": "markdown",
   "id": "2b59760a",
   "metadata": {},
   "source": [
    "#### Cheking Statistical Parameters"
   ]
  },
  {
   "cell_type": "code",
   "execution_count": 94,
   "id": "4f8668c5",
   "metadata": {},
   "outputs": [
    {
     "data": {
      "text/html": [
       "<div>\n",
       "<style scoped>\n",
       "    .dataframe tbody tr th:only-of-type {\n",
       "        vertical-align: middle;\n",
       "    }\n",
       "\n",
       "    .dataframe tbody tr th {\n",
       "        vertical-align: top;\n",
       "    }\n",
       "\n",
       "    .dataframe thead th {\n",
       "        text-align: right;\n",
       "    }\n",
       "</style>\n",
       "<table border=\"1\" class=\"dataframe\">\n",
       "  <thead>\n",
       "    <tr style=\"text-align: right;\">\n",
       "      <th></th>\n",
       "      <th>review_score</th>\n",
       "    </tr>\n",
       "  </thead>\n",
       "  <tbody>\n",
       "    <tr>\n",
       "      <th>count</th>\n",
       "      <td>99224.000000</td>\n",
       "    </tr>\n",
       "    <tr>\n",
       "      <th>mean</th>\n",
       "      <td>4.086421</td>\n",
       "    </tr>\n",
       "    <tr>\n",
       "      <th>std</th>\n",
       "      <td>1.347579</td>\n",
       "    </tr>\n",
       "    <tr>\n",
       "      <th>min</th>\n",
       "      <td>1.000000</td>\n",
       "    </tr>\n",
       "    <tr>\n",
       "      <th>25%</th>\n",
       "      <td>4.000000</td>\n",
       "    </tr>\n",
       "    <tr>\n",
       "      <th>50%</th>\n",
       "      <td>5.000000</td>\n",
       "    </tr>\n",
       "    <tr>\n",
       "      <th>75%</th>\n",
       "      <td>5.000000</td>\n",
       "    </tr>\n",
       "    <tr>\n",
       "      <th>max</th>\n",
       "      <td>5.000000</td>\n",
       "    </tr>\n",
       "  </tbody>\n",
       "</table>\n",
       "</div>"
      ],
      "text/plain": [
       "       review_score\n",
       "count  99224.000000\n",
       "mean       4.086421\n",
       "std        1.347579\n",
       "min        1.000000\n",
       "25%        4.000000\n",
       "50%        5.000000\n",
       "75%        5.000000\n",
       "max        5.000000"
      ]
     },
     "execution_count": 94,
     "metadata": {},
     "output_type": "execute_result"
    }
   ],
   "source": [
    "order_reviews_df.describe()"
   ]
  },
  {
   "cell_type": "markdown",
   "id": "e1a1e1b8",
   "metadata": {},
   "source": [
    "### Data in Orders Dataset"
   ]
  },
  {
   "cell_type": "markdown",
   "id": "49a6951b",
   "metadata": {},
   "source": [
    "#### Cheking DataFrame information"
   ]
  },
  {
   "cell_type": "code",
   "execution_count": 95,
   "id": "b094947e",
   "metadata": {},
   "outputs": [
    {
     "name": "stdout",
     "output_type": "stream",
     "text": [
      "<class 'pandas.core.frame.DataFrame'>\n",
      "RangeIndex: 99441 entries, 0 to 99440\n",
      "Data columns (total 8 columns):\n",
      " #   Column                         Non-Null Count  Dtype \n",
      "---  ------                         --------------  ----- \n",
      " 0   order_id                       99441 non-null  object\n",
      " 1   customer_id                    99441 non-null  object\n",
      " 2   order_status                   99441 non-null  object\n",
      " 3   order_purchase_timestamp       99441 non-null  object\n",
      " 4   order_approved_at              99281 non-null  object\n",
      " 5   order_delivered_carrier_date   97658 non-null  object\n",
      " 6   order_delivered_customer_date  96476 non-null  object\n",
      " 7   order_estimated_delivery_date  99441 non-null  object\n",
      "dtypes: object(8)\n",
      "memory usage: 6.1+ MB\n"
     ]
    }
   ],
   "source": [
    "orders_df.info()"
   ]
  },
  {
   "cell_type": "markdown",
   "id": "1a4a605d",
   "metadata": {},
   "source": [
    "#### Cheking Missing Value"
   ]
  },
  {
   "cell_type": "code",
   "execution_count": 96,
   "id": "f3127486",
   "metadata": {},
   "outputs": [
    {
     "data": {
      "text/plain": [
       "order_id                            0\n",
       "customer_id                         0\n",
       "order_status                        0\n",
       "order_purchase_timestamp            0\n",
       "order_approved_at                 160\n",
       "order_delivered_carrier_date     1783\n",
       "order_delivered_customer_date    2965\n",
       "order_estimated_delivery_date       0\n",
       "dtype: int64"
      ]
     },
     "execution_count": 96,
     "metadata": {},
     "output_type": "execute_result"
    }
   ],
   "source": [
    "orders_df.isna().sum()"
   ]
  },
  {
   "cell_type": "markdown",
   "id": "ef620526",
   "metadata": {},
   "source": [
    "#### Cheking Duplicate Data"
   ]
  },
  {
   "cell_type": "code",
   "execution_count": 97,
   "id": "65a0c389",
   "metadata": {},
   "outputs": [
    {
     "name": "stdout",
     "output_type": "stream",
     "text": [
      "Number of data deduplication:  0\n"
     ]
    }
   ],
   "source": [
    "print(\"Number of data deduplication: \", orders_df.duplicated().sum())"
   ]
  },
  {
   "cell_type": "markdown",
   "id": "9d690930",
   "metadata": {},
   "source": [
    "#### Cheking Statistical Parameters"
   ]
  },
  {
   "cell_type": "code",
   "execution_count": 98,
   "id": "057ee1f6",
   "metadata": {},
   "outputs": [
    {
     "data": {
      "text/html": [
       "<div>\n",
       "<style scoped>\n",
       "    .dataframe tbody tr th:only-of-type {\n",
       "        vertical-align: middle;\n",
       "    }\n",
       "\n",
       "    .dataframe tbody tr th {\n",
       "        vertical-align: top;\n",
       "    }\n",
       "\n",
       "    .dataframe thead th {\n",
       "        text-align: right;\n",
       "    }\n",
       "</style>\n",
       "<table border=\"1\" class=\"dataframe\">\n",
       "  <thead>\n",
       "    <tr style=\"text-align: right;\">\n",
       "      <th></th>\n",
       "      <th>order_id</th>\n",
       "      <th>customer_id</th>\n",
       "      <th>order_status</th>\n",
       "      <th>order_purchase_timestamp</th>\n",
       "      <th>order_approved_at</th>\n",
       "      <th>order_delivered_carrier_date</th>\n",
       "      <th>order_delivered_customer_date</th>\n",
       "      <th>order_estimated_delivery_date</th>\n",
       "    </tr>\n",
       "  </thead>\n",
       "  <tbody>\n",
       "    <tr>\n",
       "      <th>count</th>\n",
       "      <td>99441</td>\n",
       "      <td>99441</td>\n",
       "      <td>99441</td>\n",
       "      <td>99441</td>\n",
       "      <td>99281</td>\n",
       "      <td>97658</td>\n",
       "      <td>96476</td>\n",
       "      <td>99441</td>\n",
       "    </tr>\n",
       "    <tr>\n",
       "      <th>unique</th>\n",
       "      <td>99441</td>\n",
       "      <td>99441</td>\n",
       "      <td>8</td>\n",
       "      <td>98875</td>\n",
       "      <td>90733</td>\n",
       "      <td>81018</td>\n",
       "      <td>95664</td>\n",
       "      <td>459</td>\n",
       "    </tr>\n",
       "    <tr>\n",
       "      <th>top</th>\n",
       "      <td>e481f51cbdc54678b7cc49136f2d6af7</td>\n",
       "      <td>9ef432eb6251297304e76186b10a928d</td>\n",
       "      <td>delivered</td>\n",
       "      <td>2018-04-11 10:48:14</td>\n",
       "      <td>2018-02-27 04:31:10</td>\n",
       "      <td>2018-05-09 15:48:00</td>\n",
       "      <td>2018-05-08 23:38:46</td>\n",
       "      <td>2017-12-20 00:00:00</td>\n",
       "    </tr>\n",
       "    <tr>\n",
       "      <th>freq</th>\n",
       "      <td>1</td>\n",
       "      <td>1</td>\n",
       "      <td>96478</td>\n",
       "      <td>3</td>\n",
       "      <td>9</td>\n",
       "      <td>47</td>\n",
       "      <td>3</td>\n",
       "      <td>522</td>\n",
       "    </tr>\n",
       "  </tbody>\n",
       "</table>\n",
       "</div>"
      ],
      "text/plain": [
       "                                order_id                       customer_id  \\\n",
       "count                              99441                             99441   \n",
       "unique                             99441                             99441   \n",
       "top     e481f51cbdc54678b7cc49136f2d6af7  9ef432eb6251297304e76186b10a928d   \n",
       "freq                                   1                                 1   \n",
       "\n",
       "       order_status order_purchase_timestamp    order_approved_at  \\\n",
       "count         99441                    99441                99281   \n",
       "unique            8                    98875                90733   \n",
       "top       delivered      2018-04-11 10:48:14  2018-02-27 04:31:10   \n",
       "freq          96478                        3                    9   \n",
       "\n",
       "       order_delivered_carrier_date order_delivered_customer_date  \\\n",
       "count                         97658                         96476   \n",
       "unique                        81018                         95664   \n",
       "top             2018-05-09 15:48:00           2018-05-08 23:38:46   \n",
       "freq                             47                             3   \n",
       "\n",
       "       order_estimated_delivery_date  \n",
       "count                          99441  \n",
       "unique                           459  \n",
       "top              2017-12-20 00:00:00  \n",
       "freq                             522  "
      ]
     },
     "execution_count": 98,
     "metadata": {},
     "output_type": "execute_result"
    }
   ],
   "source": [
    "orders_df.describe()"
   ]
  },
  {
   "cell_type": "markdown",
   "id": "582eb89a",
   "metadata": {},
   "source": [
    "### Data in Product Category Dataset"
   ]
  },
  {
   "cell_type": "markdown",
   "id": "97cea8c9",
   "metadata": {},
   "source": [
    "#### Cheking DataFrame information"
   ]
  },
  {
   "cell_type": "code",
   "execution_count": 99,
   "id": "4f09c6b9",
   "metadata": {},
   "outputs": [
    {
     "name": "stdout",
     "output_type": "stream",
     "text": [
      "<class 'pandas.core.frame.DataFrame'>\n",
      "RangeIndex: 71 entries, 0 to 70\n",
      "Data columns (total 2 columns):\n",
      " #   Column                         Non-Null Count  Dtype \n",
      "---  ------                         --------------  ----- \n",
      " 0   product_category_name          71 non-null     object\n",
      " 1   product_category_name_english  71 non-null     object\n",
      "dtypes: object(2)\n",
      "memory usage: 1.2+ KB\n"
     ]
    }
   ],
   "source": [
    "product_category_df.info()"
   ]
  },
  {
   "cell_type": "markdown",
   "id": "543122f9",
   "metadata": {},
   "source": [
    "#### Cheking Duplicate Data"
   ]
  },
  {
   "cell_type": "code",
   "execution_count": 100,
   "id": "40d5a932",
   "metadata": {},
   "outputs": [
    {
     "name": "stdout",
     "output_type": "stream",
     "text": [
      "Number of data deduplication:  0\n"
     ]
    }
   ],
   "source": [
    "print(\"Number of data deduplication: \", product_category_df.duplicated().sum())"
   ]
  },
  {
   "cell_type": "markdown",
   "id": "6f70c7be",
   "metadata": {},
   "source": [
    "### Data in Products Dataset"
   ]
  },
  {
   "cell_type": "markdown",
   "id": "32701ec0",
   "metadata": {},
   "source": [
    "#### Cheking DataFrame information"
   ]
  },
  {
   "cell_type": "code",
   "execution_count": 101,
   "id": "605b7c5b",
   "metadata": {},
   "outputs": [
    {
     "name": "stdout",
     "output_type": "stream",
     "text": [
      "<class 'pandas.core.frame.DataFrame'>\n",
      "RangeIndex: 32951 entries, 0 to 32950\n",
      "Data columns (total 9 columns):\n",
      " #   Column                      Non-Null Count  Dtype  \n",
      "---  ------                      --------------  -----  \n",
      " 0   product_id                  32951 non-null  object \n",
      " 1   product_category_name       32341 non-null  object \n",
      " 2   product_name_lenght         32341 non-null  float64\n",
      " 3   product_description_lenght  32341 non-null  float64\n",
      " 4   product_photos_qty          32341 non-null  float64\n",
      " 5   product_weight_g            32949 non-null  float64\n",
      " 6   product_length_cm           32949 non-null  float64\n",
      " 7   product_height_cm           32949 non-null  float64\n",
      " 8   product_width_cm            32949 non-null  float64\n",
      "dtypes: float64(7), object(2)\n",
      "memory usage: 2.3+ MB\n"
     ]
    }
   ],
   "source": [
    "products_df.info()"
   ]
  },
  {
   "cell_type": "markdown",
   "id": "6f46d99c",
   "metadata": {},
   "source": [
    "#### Cheking Missing Value"
   ]
  },
  {
   "cell_type": "code",
   "execution_count": 102,
   "id": "2c345ed8",
   "metadata": {},
   "outputs": [
    {
     "data": {
      "text/plain": [
       "product_id                      0\n",
       "product_category_name         610\n",
       "product_name_lenght           610\n",
       "product_description_lenght    610\n",
       "product_photos_qty            610\n",
       "product_weight_g                2\n",
       "product_length_cm               2\n",
       "product_height_cm               2\n",
       "product_width_cm                2\n",
       "dtype: int64"
      ]
     },
     "execution_count": 102,
     "metadata": {},
     "output_type": "execute_result"
    }
   ],
   "source": [
    "products_df.isna().sum()"
   ]
  },
  {
   "cell_type": "markdown",
   "id": "c3bb396a",
   "metadata": {},
   "source": [
    "#### Cheking Duplicate Data"
   ]
  },
  {
   "cell_type": "code",
   "execution_count": 103,
   "id": "fd9ecec0",
   "metadata": {},
   "outputs": [
    {
     "name": "stdout",
     "output_type": "stream",
     "text": [
      "Number of data deduplication:  0\n"
     ]
    }
   ],
   "source": [
    "print(\"Number of data deduplication: \", products_df.duplicated().sum())"
   ]
  },
  {
   "cell_type": "markdown",
   "id": "6f343122",
   "metadata": {},
   "source": [
    "#### Cheking Statistical Parameters"
   ]
  },
  {
   "cell_type": "code",
   "execution_count": 104,
   "id": "aaf6780b",
   "metadata": {},
   "outputs": [
    {
     "data": {
      "text/html": [
       "<div>\n",
       "<style scoped>\n",
       "    .dataframe tbody tr th:only-of-type {\n",
       "        vertical-align: middle;\n",
       "    }\n",
       "\n",
       "    .dataframe tbody tr th {\n",
       "        vertical-align: top;\n",
       "    }\n",
       "\n",
       "    .dataframe thead th {\n",
       "        text-align: right;\n",
       "    }\n",
       "</style>\n",
       "<table border=\"1\" class=\"dataframe\">\n",
       "  <thead>\n",
       "    <tr style=\"text-align: right;\">\n",
       "      <th></th>\n",
       "      <th>product_name_lenght</th>\n",
       "      <th>product_description_lenght</th>\n",
       "      <th>product_photos_qty</th>\n",
       "      <th>product_weight_g</th>\n",
       "      <th>product_length_cm</th>\n",
       "      <th>product_height_cm</th>\n",
       "      <th>product_width_cm</th>\n",
       "    </tr>\n",
       "  </thead>\n",
       "  <tbody>\n",
       "    <tr>\n",
       "      <th>count</th>\n",
       "      <td>32341.000000</td>\n",
       "      <td>32341.000000</td>\n",
       "      <td>32341.000000</td>\n",
       "      <td>32949.000000</td>\n",
       "      <td>32949.000000</td>\n",
       "      <td>32949.000000</td>\n",
       "      <td>32949.000000</td>\n",
       "    </tr>\n",
       "    <tr>\n",
       "      <th>mean</th>\n",
       "      <td>48.476949</td>\n",
       "      <td>771.495285</td>\n",
       "      <td>2.188986</td>\n",
       "      <td>2276.472488</td>\n",
       "      <td>30.815078</td>\n",
       "      <td>16.937661</td>\n",
       "      <td>23.196728</td>\n",
       "    </tr>\n",
       "    <tr>\n",
       "      <th>std</th>\n",
       "      <td>10.245741</td>\n",
       "      <td>635.115225</td>\n",
       "      <td>1.736766</td>\n",
       "      <td>4282.038731</td>\n",
       "      <td>16.914458</td>\n",
       "      <td>13.637554</td>\n",
       "      <td>12.079047</td>\n",
       "    </tr>\n",
       "    <tr>\n",
       "      <th>min</th>\n",
       "      <td>5.000000</td>\n",
       "      <td>4.000000</td>\n",
       "      <td>1.000000</td>\n",
       "      <td>0.000000</td>\n",
       "      <td>7.000000</td>\n",
       "      <td>2.000000</td>\n",
       "      <td>6.000000</td>\n",
       "    </tr>\n",
       "    <tr>\n",
       "      <th>25%</th>\n",
       "      <td>42.000000</td>\n",
       "      <td>339.000000</td>\n",
       "      <td>1.000000</td>\n",
       "      <td>300.000000</td>\n",
       "      <td>18.000000</td>\n",
       "      <td>8.000000</td>\n",
       "      <td>15.000000</td>\n",
       "    </tr>\n",
       "    <tr>\n",
       "      <th>50%</th>\n",
       "      <td>51.000000</td>\n",
       "      <td>595.000000</td>\n",
       "      <td>1.000000</td>\n",
       "      <td>700.000000</td>\n",
       "      <td>25.000000</td>\n",
       "      <td>13.000000</td>\n",
       "      <td>20.000000</td>\n",
       "    </tr>\n",
       "    <tr>\n",
       "      <th>75%</th>\n",
       "      <td>57.000000</td>\n",
       "      <td>972.000000</td>\n",
       "      <td>3.000000</td>\n",
       "      <td>1900.000000</td>\n",
       "      <td>38.000000</td>\n",
       "      <td>21.000000</td>\n",
       "      <td>30.000000</td>\n",
       "    </tr>\n",
       "    <tr>\n",
       "      <th>max</th>\n",
       "      <td>76.000000</td>\n",
       "      <td>3992.000000</td>\n",
       "      <td>20.000000</td>\n",
       "      <td>40425.000000</td>\n",
       "      <td>105.000000</td>\n",
       "      <td>105.000000</td>\n",
       "      <td>118.000000</td>\n",
       "    </tr>\n",
       "  </tbody>\n",
       "</table>\n",
       "</div>"
      ],
      "text/plain": [
       "       product_name_lenght  product_description_lenght  product_photos_qty  \\\n",
       "count         32341.000000                32341.000000        32341.000000   \n",
       "mean             48.476949                  771.495285            2.188986   \n",
       "std              10.245741                  635.115225            1.736766   \n",
       "min               5.000000                    4.000000            1.000000   \n",
       "25%              42.000000                  339.000000            1.000000   \n",
       "50%              51.000000                  595.000000            1.000000   \n",
       "75%              57.000000                  972.000000            3.000000   \n",
       "max              76.000000                 3992.000000           20.000000   \n",
       "\n",
       "       product_weight_g  product_length_cm  product_height_cm  \\\n",
       "count      32949.000000       32949.000000       32949.000000   \n",
       "mean        2276.472488          30.815078          16.937661   \n",
       "std         4282.038731          16.914458          13.637554   \n",
       "min            0.000000           7.000000           2.000000   \n",
       "25%          300.000000          18.000000           8.000000   \n",
       "50%          700.000000          25.000000          13.000000   \n",
       "75%         1900.000000          38.000000          21.000000   \n",
       "max        40425.000000         105.000000         105.000000   \n",
       "\n",
       "       product_width_cm  \n",
       "count      32949.000000  \n",
       "mean          23.196728  \n",
       "std           12.079047  \n",
       "min            6.000000  \n",
       "25%           15.000000  \n",
       "50%           20.000000  \n",
       "75%           30.000000  \n",
       "max          118.000000  "
      ]
     },
     "execution_count": 104,
     "metadata": {},
     "output_type": "execute_result"
    }
   ],
   "source": [
    "products_df.describe()"
   ]
  },
  {
   "cell_type": "markdown",
   "id": "ffb448c5",
   "metadata": {},
   "source": [
    "### Data in Sellers Dataset"
   ]
  },
  {
   "cell_type": "markdown",
   "id": "315839cb",
   "metadata": {},
   "source": [
    "#### Cheking DataFrame information"
   ]
  },
  {
   "cell_type": "code",
   "execution_count": 105,
   "id": "378465b7",
   "metadata": {},
   "outputs": [
    {
     "name": "stdout",
     "output_type": "stream",
     "text": [
      "<class 'pandas.core.frame.DataFrame'>\n",
      "RangeIndex: 3095 entries, 0 to 3094\n",
      "Data columns (total 4 columns):\n",
      " #   Column                  Non-Null Count  Dtype \n",
      "---  ------                  --------------  ----- \n",
      " 0   seller_id               3095 non-null   object\n",
      " 1   seller_zip_code_prefix  3095 non-null   int64 \n",
      " 2   seller_city             3095 non-null   object\n",
      " 3   seller_state            3095 non-null   object\n",
      "dtypes: int64(1), object(3)\n",
      "memory usage: 96.8+ KB\n"
     ]
    }
   ],
   "source": [
    "sellers_df.info()"
   ]
  },
  {
   "cell_type": "markdown",
   "id": "a08d1d7b",
   "metadata": {},
   "source": [
    "#### Cheking Duplicate Data"
   ]
  },
  {
   "cell_type": "code",
   "execution_count": 106,
   "id": "8786042d",
   "metadata": {},
   "outputs": [
    {
     "name": "stdout",
     "output_type": "stream",
     "text": [
      "Number of data deduplication:  0\n"
     ]
    }
   ],
   "source": [
    "print(\"Number of data deduplication: \", sellers_df.duplicated().sum())"
   ]
  },
  {
   "cell_type": "markdown",
   "id": "00afd6e4",
   "metadata": {},
   "source": [
    "## Cleaning Data"
   ]
  },
  {
   "cell_type": "markdown",
   "id": "2b6eac31",
   "metadata": {},
   "source": [
    "### Cleaning Data Geolocation Dataset"
   ]
  },
  {
   "cell_type": "markdown",
   "id": "405cbdcb",
   "metadata": {},
   "source": [
    "#### Remove Duplicate Data"
   ]
  },
  {
   "cell_type": "code",
   "execution_count": 107,
   "id": "c7395891",
   "metadata": {},
   "outputs": [
    {
     "name": "stdout",
     "output_type": "stream",
     "text": [
      "Number of data deduplicaton:  0\n"
     ]
    }
   ],
   "source": [
    "geolocation_df.drop_duplicates(inplace=True)\n",
    "print(\"Number of data deduplicaton: \", geolocation_df.duplicated().sum())"
   ]
  },
  {
   "cell_type": "markdown",
   "id": "ff47eb0f",
   "metadata": {},
   "source": [
    "### Cleaning Data Orders Dataset"
   ]
  },
  {
   "cell_type": "markdown",
   "id": "ddada591",
   "metadata": {},
   "source": [
    "#### Handling  Missing Value"
   ]
  },
  {
   "cell_type": "code",
   "execution_count": 108,
   "id": "5e127557",
   "metadata": {},
   "outputs": [
    {
     "data": {
      "text/html": [
       "<div>\n",
       "<style scoped>\n",
       "    .dataframe tbody tr th:only-of-type {\n",
       "        vertical-align: middle;\n",
       "    }\n",
       "\n",
       "    .dataframe tbody tr th {\n",
       "        vertical-align: top;\n",
       "    }\n",
       "\n",
       "    .dataframe thead th {\n",
       "        text-align: right;\n",
       "    }\n",
       "</style>\n",
       "<table border=\"1\" class=\"dataframe\">\n",
       "  <thead>\n",
       "    <tr style=\"text-align: right;\">\n",
       "      <th></th>\n",
       "      <th>review_id</th>\n",
       "      <th>order_id</th>\n",
       "      <th>review_score</th>\n",
       "      <th>review_comment_title</th>\n",
       "      <th>review_comment_message</th>\n",
       "      <th>review_creation_date</th>\n",
       "      <th>review_answer_timestamp</th>\n",
       "    </tr>\n",
       "  </thead>\n",
       "  <tbody>\n",
       "    <tr>\n",
       "      <th>0</th>\n",
       "      <td>7bc2406110b926393aa56f80a40eba40</td>\n",
       "      <td>73fc7af87114b39712e6da79b0a377eb</td>\n",
       "      <td>4</td>\n",
       "      <td>NaN</td>\n",
       "      <td>NaN</td>\n",
       "      <td>2018-01-18 00:00:00</td>\n",
       "      <td>2018-01-18 21:46:59</td>\n",
       "    </tr>\n",
       "    <tr>\n",
       "      <th>1</th>\n",
       "      <td>80e641a11e56f04c1ad469d5645fdfde</td>\n",
       "      <td>a548910a1c6147796b98fdf73dbeba33</td>\n",
       "      <td>5</td>\n",
       "      <td>NaN</td>\n",
       "      <td>NaN</td>\n",
       "      <td>2018-03-10 00:00:00</td>\n",
       "      <td>2018-03-11 03:05:13</td>\n",
       "    </tr>\n",
       "    <tr>\n",
       "      <th>2</th>\n",
       "      <td>228ce5500dc1d8e020d8d1322874b6f0</td>\n",
       "      <td>f9e4b658b201a9f2ecdecbb34bed034b</td>\n",
       "      <td>5</td>\n",
       "      <td>NaN</td>\n",
       "      <td>NaN</td>\n",
       "      <td>2018-02-17 00:00:00</td>\n",
       "      <td>2018-02-18 14:36:24</td>\n",
       "    </tr>\n",
       "    <tr>\n",
       "      <th>3</th>\n",
       "      <td>e64fb393e7b32834bb789ff8bb30750e</td>\n",
       "      <td>658677c97b385a9be170737859d3511b</td>\n",
       "      <td>5</td>\n",
       "      <td>NaN</td>\n",
       "      <td>Recebi bem antes do prazo estipulado.</td>\n",
       "      <td>2017-04-21 00:00:00</td>\n",
       "      <td>2017-04-21 22:02:06</td>\n",
       "    </tr>\n",
       "    <tr>\n",
       "      <th>4</th>\n",
       "      <td>f7c4243c7fe1938f181bec41a392bdeb</td>\n",
       "      <td>8e6bfb81e283fa7e4f11123a3fb894f1</td>\n",
       "      <td>5</td>\n",
       "      <td>NaN</td>\n",
       "      <td>Parabéns lojas lannister adorei comprar pela I...</td>\n",
       "      <td>2018-03-01 00:00:00</td>\n",
       "      <td>2018-03-02 10:26:53</td>\n",
       "    </tr>\n",
       "    <tr>\n",
       "      <th>...</th>\n",
       "      <td>...</td>\n",
       "      <td>...</td>\n",
       "      <td>...</td>\n",
       "      <td>...</td>\n",
       "      <td>...</td>\n",
       "      <td>...</td>\n",
       "      <td>...</td>\n",
       "    </tr>\n",
       "    <tr>\n",
       "      <th>99219</th>\n",
       "      <td>574ed12dd733e5fa530cfd4bbf39d7c9</td>\n",
       "      <td>2a8c23fee101d4d5662fa670396eb8da</td>\n",
       "      <td>5</td>\n",
       "      <td>NaN</td>\n",
       "      <td>NaN</td>\n",
       "      <td>2018-07-07 00:00:00</td>\n",
       "      <td>2018-07-14 17:18:30</td>\n",
       "    </tr>\n",
       "    <tr>\n",
       "      <th>99220</th>\n",
       "      <td>f3897127253a9592a73be9bdfdf4ed7a</td>\n",
       "      <td>22ec9f0669f784db00fa86d035cf8602</td>\n",
       "      <td>5</td>\n",
       "      <td>NaN</td>\n",
       "      <td>NaN</td>\n",
       "      <td>2017-12-09 00:00:00</td>\n",
       "      <td>2017-12-11 20:06:42</td>\n",
       "    </tr>\n",
       "    <tr>\n",
       "      <th>99221</th>\n",
       "      <td>b3de70c89b1510c4cd3d0649fd302472</td>\n",
       "      <td>55d4004744368f5571d1f590031933e4</td>\n",
       "      <td>5</td>\n",
       "      <td>NaN</td>\n",
       "      <td>Excelente mochila, entrega super rápida. Super...</td>\n",
       "      <td>2018-03-22 00:00:00</td>\n",
       "      <td>2018-03-23 09:10:43</td>\n",
       "    </tr>\n",
       "    <tr>\n",
       "      <th>99222</th>\n",
       "      <td>1adeb9d84d72fe4e337617733eb85149</td>\n",
       "      <td>7725825d039fc1f0ceb7635e3f7d9206</td>\n",
       "      <td>4</td>\n",
       "      <td>NaN</td>\n",
       "      <td>NaN</td>\n",
       "      <td>2018-07-01 00:00:00</td>\n",
       "      <td>2018-07-02 12:59:13</td>\n",
       "    </tr>\n",
       "    <tr>\n",
       "      <th>99223</th>\n",
       "      <td>efe49f1d6f951dd88b51e6ccd4cc548f</td>\n",
       "      <td>90531360ecb1eec2a1fbb265a0db0508</td>\n",
       "      <td>1</td>\n",
       "      <td>NaN</td>\n",
       "      <td>meu produto chegou e ja tenho que devolver, po...</td>\n",
       "      <td>2017-07-03 00:00:00</td>\n",
       "      <td>2017-07-03 21:01:49</td>\n",
       "    </tr>\n",
       "  </tbody>\n",
       "</table>\n",
       "<p>89385 rows × 7 columns</p>\n",
       "</div>"
      ],
      "text/plain": [
       "                              review_id                          order_id  \\\n",
       "0      7bc2406110b926393aa56f80a40eba40  73fc7af87114b39712e6da79b0a377eb   \n",
       "1      80e641a11e56f04c1ad469d5645fdfde  a548910a1c6147796b98fdf73dbeba33   \n",
       "2      228ce5500dc1d8e020d8d1322874b6f0  f9e4b658b201a9f2ecdecbb34bed034b   \n",
       "3      e64fb393e7b32834bb789ff8bb30750e  658677c97b385a9be170737859d3511b   \n",
       "4      f7c4243c7fe1938f181bec41a392bdeb  8e6bfb81e283fa7e4f11123a3fb894f1   \n",
       "...                                 ...                               ...   \n",
       "99219  574ed12dd733e5fa530cfd4bbf39d7c9  2a8c23fee101d4d5662fa670396eb8da   \n",
       "99220  f3897127253a9592a73be9bdfdf4ed7a  22ec9f0669f784db00fa86d035cf8602   \n",
       "99221  b3de70c89b1510c4cd3d0649fd302472  55d4004744368f5571d1f590031933e4   \n",
       "99222  1adeb9d84d72fe4e337617733eb85149  7725825d039fc1f0ceb7635e3f7d9206   \n",
       "99223  efe49f1d6f951dd88b51e6ccd4cc548f  90531360ecb1eec2a1fbb265a0db0508   \n",
       "\n",
       "       review_score review_comment_title  \\\n",
       "0                 4                  NaN   \n",
       "1                 5                  NaN   \n",
       "2                 5                  NaN   \n",
       "3                 5                  NaN   \n",
       "4                 5                  NaN   \n",
       "...             ...                  ...   \n",
       "99219             5                  NaN   \n",
       "99220             5                  NaN   \n",
       "99221             5                  NaN   \n",
       "99222             4                  NaN   \n",
       "99223             1                  NaN   \n",
       "\n",
       "                                  review_comment_message review_creation_date  \\\n",
       "0                                                    NaN  2018-01-18 00:00:00   \n",
       "1                                                    NaN  2018-03-10 00:00:00   \n",
       "2                                                    NaN  2018-02-17 00:00:00   \n",
       "3                  Recebi bem antes do prazo estipulado.  2017-04-21 00:00:00   \n",
       "4      Parabéns lojas lannister adorei comprar pela I...  2018-03-01 00:00:00   \n",
       "...                                                  ...                  ...   \n",
       "99219                                                NaN  2018-07-07 00:00:00   \n",
       "99220                                                NaN  2017-12-09 00:00:00   \n",
       "99221  Excelente mochila, entrega super rápida. Super...  2018-03-22 00:00:00   \n",
       "99222                                                NaN  2018-07-01 00:00:00   \n",
       "99223  meu produto chegou e ja tenho que devolver, po...  2017-07-03 00:00:00   \n",
       "\n",
       "      review_answer_timestamp  \n",
       "0         2018-01-18 21:46:59  \n",
       "1         2018-03-11 03:05:13  \n",
       "2         2018-02-18 14:36:24  \n",
       "3         2017-04-21 22:02:06  \n",
       "4         2018-03-02 10:26:53  \n",
       "...                       ...  \n",
       "99219     2018-07-14 17:18:30  \n",
       "99220     2017-12-11 20:06:42  \n",
       "99221     2018-03-23 09:10:43  \n",
       "99222     2018-07-02 12:59:13  \n",
       "99223     2017-07-03 21:01:49  \n",
       "\n",
       "[89385 rows x 7 columns]"
      ]
     },
     "execution_count": 108,
     "metadata": {},
     "output_type": "execute_result"
    }
   ],
   "source": [
    "order_reviews_df[(order_reviews_df.review_comment_title.isna()) | (order_reviews_df.review_comment_message.isna())]"
   ]
  },
  {
   "cell_type": "code",
   "execution_count": 109,
   "id": "5165b561",
   "metadata": {},
   "outputs": [
    {
     "data": {
      "text/html": [
       "<div>\n",
       "<style scoped>\n",
       "    .dataframe tbody tr th:only-of-type {\n",
       "        vertical-align: middle;\n",
       "    }\n",
       "\n",
       "    .dataframe tbody tr th {\n",
       "        vertical-align: top;\n",
       "    }\n",
       "\n",
       "    .dataframe thead th {\n",
       "        text-align: right;\n",
       "    }\n",
       "</style>\n",
       "<table border=\"1\" class=\"dataframe\">\n",
       "  <thead>\n",
       "    <tr style=\"text-align: right;\">\n",
       "      <th></th>\n",
       "      <th>review_id</th>\n",
       "      <th>order_id</th>\n",
       "      <th>review_score</th>\n",
       "      <th>review_creation_date</th>\n",
       "      <th>review_answer_timestamp</th>\n",
       "    </tr>\n",
       "  </thead>\n",
       "  <tbody>\n",
       "    <tr>\n",
       "      <th>0</th>\n",
       "      <td>7bc2406110b926393aa56f80a40eba40</td>\n",
       "      <td>73fc7af87114b39712e6da79b0a377eb</td>\n",
       "      <td>4</td>\n",
       "      <td>2018-01-18 00:00:00</td>\n",
       "      <td>2018-01-18 21:46:59</td>\n",
       "    </tr>\n",
       "    <tr>\n",
       "      <th>1</th>\n",
       "      <td>80e641a11e56f04c1ad469d5645fdfde</td>\n",
       "      <td>a548910a1c6147796b98fdf73dbeba33</td>\n",
       "      <td>5</td>\n",
       "      <td>2018-03-10 00:00:00</td>\n",
       "      <td>2018-03-11 03:05:13</td>\n",
       "    </tr>\n",
       "    <tr>\n",
       "      <th>2</th>\n",
       "      <td>228ce5500dc1d8e020d8d1322874b6f0</td>\n",
       "      <td>f9e4b658b201a9f2ecdecbb34bed034b</td>\n",
       "      <td>5</td>\n",
       "      <td>2018-02-17 00:00:00</td>\n",
       "      <td>2018-02-18 14:36:24</td>\n",
       "    </tr>\n",
       "    <tr>\n",
       "      <th>3</th>\n",
       "      <td>e64fb393e7b32834bb789ff8bb30750e</td>\n",
       "      <td>658677c97b385a9be170737859d3511b</td>\n",
       "      <td>5</td>\n",
       "      <td>2017-04-21 00:00:00</td>\n",
       "      <td>2017-04-21 22:02:06</td>\n",
       "    </tr>\n",
       "    <tr>\n",
       "      <th>4</th>\n",
       "      <td>f7c4243c7fe1938f181bec41a392bdeb</td>\n",
       "      <td>8e6bfb81e283fa7e4f11123a3fb894f1</td>\n",
       "      <td>5</td>\n",
       "      <td>2018-03-01 00:00:00</td>\n",
       "      <td>2018-03-02 10:26:53</td>\n",
       "    </tr>\n",
       "  </tbody>\n",
       "</table>\n",
       "</div>"
      ],
      "text/plain": [
       "                          review_id                          order_id  \\\n",
       "0  7bc2406110b926393aa56f80a40eba40  73fc7af87114b39712e6da79b0a377eb   \n",
       "1  80e641a11e56f04c1ad469d5645fdfde  a548910a1c6147796b98fdf73dbeba33   \n",
       "2  228ce5500dc1d8e020d8d1322874b6f0  f9e4b658b201a9f2ecdecbb34bed034b   \n",
       "3  e64fb393e7b32834bb789ff8bb30750e  658677c97b385a9be170737859d3511b   \n",
       "4  f7c4243c7fe1938f181bec41a392bdeb  8e6bfb81e283fa7e4f11123a3fb894f1   \n",
       "\n",
       "   review_score review_creation_date review_answer_timestamp  \n",
       "0             4  2018-01-18 00:00:00     2018-01-18 21:46:59  \n",
       "1             5  2018-03-10 00:00:00     2018-03-11 03:05:13  \n",
       "2             5  2018-02-17 00:00:00     2018-02-18 14:36:24  \n",
       "3             5  2017-04-21 00:00:00     2017-04-21 22:02:06  \n",
       "4             5  2018-03-01 00:00:00     2018-03-02 10:26:53  "
      ]
     },
     "execution_count": 109,
     "metadata": {},
     "output_type": "execute_result"
    }
   ],
   "source": [
    "#Because the values of the review_comment_title and reiview_comment_message \n",
    "#columns are very random and the more important value is the review_score \n",
    "#in the data visualization later so that the two columns will be deleted.\n",
    "\n",
    "new_order_reviews_df = order_reviews_df.drop(columns=['review_comment_title','review_comment_message'])\n",
    "new_order_reviews_df.head()"
   ]
  },
  {
   "cell_type": "code",
   "execution_count": 110,
   "id": "981ef495",
   "metadata": {},
   "outputs": [
    {
     "data": {
      "text/plain": [
       "review_id                  0\n",
       "order_id                   0\n",
       "review_score               0\n",
       "review_creation_date       0\n",
       "review_answer_timestamp    0\n",
       "dtype: int64"
      ]
     },
     "execution_count": 110,
     "metadata": {},
     "output_type": "execute_result"
    }
   ],
   "source": [
    "new_order_reviews_df.isna().sum()"
   ]
  },
  {
   "cell_type": "markdown",
   "id": "bf252350",
   "metadata": {},
   "source": [
    "### Cleaning Data Product  Dataset"
   ]
  },
  {
   "cell_type": "markdown",
   "id": "43f0d0c5",
   "metadata": {},
   "source": [
    "#### Handling Missing Value"
   ]
  },
  {
   "cell_type": "code",
   "execution_count": 111,
   "id": "b808bd3e",
   "metadata": {},
   "outputs": [
    {
     "data": {
      "text/html": [
       "<div>\n",
       "<style scoped>\n",
       "    .dataframe tbody tr th:only-of-type {\n",
       "        vertical-align: middle;\n",
       "    }\n",
       "\n",
       "    .dataframe tbody tr th {\n",
       "        vertical-align: top;\n",
       "    }\n",
       "\n",
       "    .dataframe thead th {\n",
       "        text-align: right;\n",
       "    }\n",
       "</style>\n",
       "<table border=\"1\" class=\"dataframe\">\n",
       "  <thead>\n",
       "    <tr style=\"text-align: right;\">\n",
       "      <th></th>\n",
       "      <th>product_id</th>\n",
       "      <th>product_category_name</th>\n",
       "      <th>product_name_lenght</th>\n",
       "      <th>product_description_lenght</th>\n",
       "      <th>product_photos_qty</th>\n",
       "      <th>product_weight_g</th>\n",
       "      <th>product_length_cm</th>\n",
       "      <th>product_height_cm</th>\n",
       "      <th>product_width_cm</th>\n",
       "    </tr>\n",
       "  </thead>\n",
       "  <tbody>\n",
       "    <tr>\n",
       "      <th>105</th>\n",
       "      <td>a41e356c76fab66334f36de622ecbd3a</td>\n",
       "      <td>NaN</td>\n",
       "      <td>NaN</td>\n",
       "      <td>NaN</td>\n",
       "      <td>NaN</td>\n",
       "      <td>650.0</td>\n",
       "      <td>17.0</td>\n",
       "      <td>14.0</td>\n",
       "      <td>12.0</td>\n",
       "    </tr>\n",
       "    <tr>\n",
       "      <th>128</th>\n",
       "      <td>d8dee61c2034d6d075997acef1870e9b</td>\n",
       "      <td>NaN</td>\n",
       "      <td>NaN</td>\n",
       "      <td>NaN</td>\n",
       "      <td>NaN</td>\n",
       "      <td>300.0</td>\n",
       "      <td>16.0</td>\n",
       "      <td>7.0</td>\n",
       "      <td>20.0</td>\n",
       "    </tr>\n",
       "    <tr>\n",
       "      <th>145</th>\n",
       "      <td>56139431d72cd51f19eb9f7dae4d1617</td>\n",
       "      <td>NaN</td>\n",
       "      <td>NaN</td>\n",
       "      <td>NaN</td>\n",
       "      <td>NaN</td>\n",
       "      <td>200.0</td>\n",
       "      <td>20.0</td>\n",
       "      <td>20.0</td>\n",
       "      <td>20.0</td>\n",
       "    </tr>\n",
       "    <tr>\n",
       "      <th>154</th>\n",
       "      <td>46b48281eb6d663ced748f324108c733</td>\n",
       "      <td>NaN</td>\n",
       "      <td>NaN</td>\n",
       "      <td>NaN</td>\n",
       "      <td>NaN</td>\n",
       "      <td>18500.0</td>\n",
       "      <td>41.0</td>\n",
       "      <td>30.0</td>\n",
       "      <td>41.0</td>\n",
       "    </tr>\n",
       "    <tr>\n",
       "      <th>197</th>\n",
       "      <td>5fb61f482620cb672f5e586bb132eae9</td>\n",
       "      <td>NaN</td>\n",
       "      <td>NaN</td>\n",
       "      <td>NaN</td>\n",
       "      <td>NaN</td>\n",
       "      <td>300.0</td>\n",
       "      <td>35.0</td>\n",
       "      <td>7.0</td>\n",
       "      <td>12.0</td>\n",
       "    </tr>\n",
       "    <tr>\n",
       "      <th>...</th>\n",
       "      <td>...</td>\n",
       "      <td>...</td>\n",
       "      <td>...</td>\n",
       "      <td>...</td>\n",
       "      <td>...</td>\n",
       "      <td>...</td>\n",
       "      <td>...</td>\n",
       "      <td>...</td>\n",
       "      <td>...</td>\n",
       "    </tr>\n",
       "    <tr>\n",
       "      <th>32515</th>\n",
       "      <td>b0a0c5dd78e644373b199380612c350a</td>\n",
       "      <td>NaN</td>\n",
       "      <td>NaN</td>\n",
       "      <td>NaN</td>\n",
       "      <td>NaN</td>\n",
       "      <td>1800.0</td>\n",
       "      <td>30.0</td>\n",
       "      <td>20.0</td>\n",
       "      <td>70.0</td>\n",
       "    </tr>\n",
       "    <tr>\n",
       "      <th>32589</th>\n",
       "      <td>10dbe0fbaa2c505123c17fdc34a63c56</td>\n",
       "      <td>NaN</td>\n",
       "      <td>NaN</td>\n",
       "      <td>NaN</td>\n",
       "      <td>NaN</td>\n",
       "      <td>800.0</td>\n",
       "      <td>30.0</td>\n",
       "      <td>10.0</td>\n",
       "      <td>23.0</td>\n",
       "    </tr>\n",
       "    <tr>\n",
       "      <th>32616</th>\n",
       "      <td>bd2ada37b58ae94cc838b9c0569fecd8</td>\n",
       "      <td>NaN</td>\n",
       "      <td>NaN</td>\n",
       "      <td>NaN</td>\n",
       "      <td>NaN</td>\n",
       "      <td>200.0</td>\n",
       "      <td>21.0</td>\n",
       "      <td>8.0</td>\n",
       "      <td>16.0</td>\n",
       "    </tr>\n",
       "    <tr>\n",
       "      <th>32772</th>\n",
       "      <td>fa51e914046aab32764c41356b9d4ea4</td>\n",
       "      <td>NaN</td>\n",
       "      <td>NaN</td>\n",
       "      <td>NaN</td>\n",
       "      <td>NaN</td>\n",
       "      <td>1300.0</td>\n",
       "      <td>45.0</td>\n",
       "      <td>16.0</td>\n",
       "      <td>45.0</td>\n",
       "    </tr>\n",
       "    <tr>\n",
       "      <th>32852</th>\n",
       "      <td>c4ceee876c82b8328e9c293fa0e1989b</td>\n",
       "      <td>NaN</td>\n",
       "      <td>NaN</td>\n",
       "      <td>NaN</td>\n",
       "      <td>NaN</td>\n",
       "      <td>700.0</td>\n",
       "      <td>28.0</td>\n",
       "      <td>3.0</td>\n",
       "      <td>43.0</td>\n",
       "    </tr>\n",
       "  </tbody>\n",
       "</table>\n",
       "<p>611 rows × 9 columns</p>\n",
       "</div>"
      ],
      "text/plain": [
       "                             product_id product_category_name  \\\n",
       "105    a41e356c76fab66334f36de622ecbd3a                   NaN   \n",
       "128    d8dee61c2034d6d075997acef1870e9b                   NaN   \n",
       "145    56139431d72cd51f19eb9f7dae4d1617                   NaN   \n",
       "154    46b48281eb6d663ced748f324108c733                   NaN   \n",
       "197    5fb61f482620cb672f5e586bb132eae9                   NaN   \n",
       "...                                 ...                   ...   \n",
       "32515  b0a0c5dd78e644373b199380612c350a                   NaN   \n",
       "32589  10dbe0fbaa2c505123c17fdc34a63c56                   NaN   \n",
       "32616  bd2ada37b58ae94cc838b9c0569fecd8                   NaN   \n",
       "32772  fa51e914046aab32764c41356b9d4ea4                   NaN   \n",
       "32852  c4ceee876c82b8328e9c293fa0e1989b                   NaN   \n",
       "\n",
       "       product_name_lenght  product_description_lenght  product_photos_qty  \\\n",
       "105                    NaN                         NaN                 NaN   \n",
       "128                    NaN                         NaN                 NaN   \n",
       "145                    NaN                         NaN                 NaN   \n",
       "154                    NaN                         NaN                 NaN   \n",
       "197                    NaN                         NaN                 NaN   \n",
       "...                    ...                         ...                 ...   \n",
       "32515                  NaN                         NaN                 NaN   \n",
       "32589                  NaN                         NaN                 NaN   \n",
       "32616                  NaN                         NaN                 NaN   \n",
       "32772                  NaN                         NaN                 NaN   \n",
       "32852                  NaN                         NaN                 NaN   \n",
       "\n",
       "       product_weight_g  product_length_cm  product_height_cm  \\\n",
       "105               650.0               17.0               14.0   \n",
       "128               300.0               16.0                7.0   \n",
       "145               200.0               20.0               20.0   \n",
       "154             18500.0               41.0               30.0   \n",
       "197               300.0               35.0                7.0   \n",
       "...                 ...                ...                ...   \n",
       "32515            1800.0               30.0               20.0   \n",
       "32589             800.0               30.0               10.0   \n",
       "32616             200.0               21.0                8.0   \n",
       "32772            1300.0               45.0               16.0   \n",
       "32852             700.0               28.0                3.0   \n",
       "\n",
       "       product_width_cm  \n",
       "105                12.0  \n",
       "128                20.0  \n",
       "145                20.0  \n",
       "154                41.0  \n",
       "197                12.0  \n",
       "...                 ...  \n",
       "32515              70.0  \n",
       "32589              23.0  \n",
       "32616              16.0  \n",
       "32772              45.0  \n",
       "32852              43.0  \n",
       "\n",
       "[611 rows x 9 columns]"
      ]
     },
     "execution_count": 111,
     "metadata": {},
     "output_type": "execute_result"
    }
   ],
   "source": [
    "products_df[(\n",
    "    products_df.product_category_name.isna() |\n",
    "    products_df.product_name_lenght.isna() |\n",
    "    products_df.product_description_lenght.isna() |\n",
    "    products_df.product_photos_qty.isna() |\n",
    "    products_df.product_weight_g.isna() |\n",
    "    products_df.product_length_cm.isna() |\n",
    "    products_df.product_height_cm.isna() |\n",
    "    products_df.product_width_cm.isna())]"
   ]
  },
  {
   "cell_type": "code",
   "execution_count": 112,
   "id": "b72b8768",
   "metadata": {},
   "outputs": [
    {
     "data": {
      "text/plain": [
       "product_id                    0\n",
       "product_category_name         0\n",
       "product_name_lenght           0\n",
       "product_description_lenght    0\n",
       "product_photos_qty            0\n",
       "product_weight_g              0\n",
       "product_length_cm             0\n",
       "product_height_cm             0\n",
       "product_width_cm              0\n",
       "dtype: int64"
      ]
     },
     "execution_count": 112,
     "metadata": {},
     "output_type": "execute_result"
    }
   ],
   "source": [
    "products_df_clean = products_df.dropna()\n",
    "products_df_clean.isna().sum()"
   ]
  },
  {
   "cell_type": "markdown",
   "id": "82b1fabb",
   "metadata": {},
   "source": [
    "## Exploratory Data Analysis (EDA)"
   ]
  },
  {
   "cell_type": "markdown",
   "id": "7736f173",
   "metadata": {},
   "source": [
    "### Exploration Customer Dataset"
   ]
  },
  {
   "cell_type": "markdown",
   "id": "bb047e37",
   "metadata": {},
   "source": [
    "#### Read the names of cities and the number of customers from those cities"
   ]
  },
  {
   "cell_type": "code",
   "execution_count": 113,
   "id": "b8ddf443",
   "metadata": {},
   "outputs": [
    {
     "name": "stdout",
     "output_type": "stream",
     "text": [
      "Number of people from each city:\n",
      "sao paulo            15540\n",
      "rio de janeiro        6882\n",
      "belo horizonte        2773\n",
      "brasilia              2131\n",
      "curitiba              1521\n",
      "                     ...  \n",
      "bequimao                 1\n",
      "andarai                  1\n",
      "vargem grande            1\n",
      "curvelandia              1\n",
      "eugenio de castro        1\n",
      "Name: customer_city, Length: 4119, dtype: int64\n"
     ]
    }
   ],
   "source": [
    "city_counts = customers_df['customer_city'].value_counts()\n",
    "print(\"Number of people from each city:\")\n",
    "print(city_counts)"
   ]
  },
  {
   "cell_type": "markdown",
   "id": "ff258464",
   "metadata": {},
   "source": [
    "#### View customer distribution based on state"
   ]
  },
  {
   "cell_type": "code",
   "execution_count": 114,
   "id": "6c40fc2f",
   "metadata": {},
   "outputs": [
    {
     "name": "stdout",
     "output_type": "stream",
     "text": [
      "Number of people from each state:\n",
      "SP    41746\n",
      "RJ    12852\n",
      "MG    11635\n",
      "RS     5466\n",
      "PR     5045\n",
      "SC     3637\n",
      "BA     3380\n",
      "DF     2140\n",
      "ES     2033\n",
      "GO     2020\n",
      "PE     1652\n",
      "CE     1336\n",
      "PA      975\n",
      "MT      907\n",
      "MA      747\n",
      "MS      715\n",
      "PB      536\n",
      "PI      495\n",
      "RN      485\n",
      "AL      413\n",
      "SE      350\n",
      "TO      280\n",
      "RO      253\n",
      "AM      148\n",
      "AC       81\n",
      "AP       68\n",
      "RR       46\n",
      "Name: customer_state, dtype: int64\n"
     ]
    }
   ],
   "source": [
    "state_counts = customers_df['customer_state'].value_counts()\n",
    "print(\"Number of people from each state:\")\n",
    "print(state_counts)"
   ]
  },
  {
   "cell_type": "markdown",
   "id": "e793d4dd",
   "metadata": {},
   "source": [
    "### Exploration Geolocation Dataset"
   ]
  },
  {
   "cell_type": "markdown",
   "id": "68adcd88",
   "metadata": {},
   "source": [
    "#### View the distribution of locations in each city"
   ]
  },
  {
   "cell_type": "code",
   "execution_count": 115,
   "id": "e13dd705",
   "metadata": {},
   "outputs": [
    {
     "name": "stdout",
     "output_type": "stream",
     "text": [
      "Number of location from each city:\n",
      "sao paulo               79927\n",
      "rio de janeiro          35177\n",
      "são paulo               19718\n",
      "belo horizonte          19474\n",
      "curitiba                11263\n",
      "                        ...  \n",
      "porto sao jose              1\n",
      "riachão do bacamarte        1\n",
      "riachao do bacamarte        1\n",
      "algodão de jandaíra         1\n",
      "luziapolis                  1\n",
      "Name: geolocation_city, Length: 8011, dtype: int64\n"
     ]
    }
   ],
   "source": [
    "location_counts = geolocation_df['geolocation_city'].value_counts()\n",
    "print(\"Number of location from each city:\")\n",
    "print(location_counts)"
   ]
  },
  {
   "cell_type": "markdown",
   "id": "70f929a5",
   "metadata": {},
   "source": [
    "### Exploration Order Payments Dataset"
   ]
  },
  {
   "cell_type": "markdown",
   "id": "7b9a45b9",
   "metadata": {},
   "source": [
    "#### Seeing how many people are paying in installments and how many more payments there are"
   ]
  },
  {
   "cell_type": "code",
   "execution_count": 116,
   "id": "06cac872",
   "metadata": {},
   "outputs": [
    {
     "name": "stdout",
     "output_type": "stream",
     "text": [
      "Number of people making installments based on the number of installment payments:\n",
      "1     52546\n",
      "2     12413\n",
      "3     10461\n",
      "4      7098\n",
      "10     5328\n",
      "5      5239\n",
      "8      4268\n",
      "6      3920\n",
      "7      1626\n",
      "9       644\n",
      "12      133\n",
      "15       74\n",
      "18       27\n",
      "11       23\n",
      "24       18\n",
      "20       17\n",
      "13       16\n",
      "14       15\n",
      "17        8\n",
      "16        5\n",
      "21        3\n",
      "0         2\n",
      "22        1\n",
      "23        1\n",
      "Name: payment_installments, dtype: int64\n"
     ]
    }
   ],
   "source": [
    "installments_counts = order_payments_df['payment_installments'].value_counts()\n",
    "print(\"Number of people making installments based on the number of installment payments:\")\n",
    "print(installments_counts)"
   ]
  },
  {
   "cell_type": "markdown",
   "id": "36d6d2f9",
   "metadata": {},
   "source": [
    "### Exploration Orders Dataset"
   ]
  },
  {
   "cell_type": "markdown",
   "id": "9a41d7fc",
   "metadata": {},
   "source": [
    "#### Create a delivery time field"
   ]
  },
  {
   "cell_type": "code",
   "execution_count": 117,
   "id": "f8a5f922",
   "metadata": {},
   "outputs": [
    {
     "data": {
      "text/html": [
       "<div>\n",
       "<style scoped>\n",
       "    .dataframe tbody tr th:only-of-type {\n",
       "        vertical-align: middle;\n",
       "    }\n",
       "\n",
       "    .dataframe tbody tr th {\n",
       "        vertical-align: top;\n",
       "    }\n",
       "\n",
       "    .dataframe thead th {\n",
       "        text-align: right;\n",
       "    }\n",
       "</style>\n",
       "<table border=\"1\" class=\"dataframe\">\n",
       "  <thead>\n",
       "    <tr style=\"text-align: right;\">\n",
       "      <th></th>\n",
       "      <th>order_id</th>\n",
       "      <th>customer_id</th>\n",
       "      <th>order_status</th>\n",
       "      <th>order_purchase_timestamp</th>\n",
       "      <th>order_approved_at</th>\n",
       "      <th>order_delivered_carrier_date</th>\n",
       "      <th>order_delivered_customer_date</th>\n",
       "      <th>order_estimated_delivery_date</th>\n",
       "      <th>delivery_time</th>\n",
       "    </tr>\n",
       "  </thead>\n",
       "  <tbody>\n",
       "    <tr>\n",
       "      <th>0</th>\n",
       "      <td>e481f51cbdc54678b7cc49136f2d6af7</td>\n",
       "      <td>9ef432eb6251297304e76186b10a928d</td>\n",
       "      <td>delivered</td>\n",
       "      <td>2017-10-02 10:56:33</td>\n",
       "      <td>2017-10-02 11:07:15</td>\n",
       "      <td>2017-10-04 19:55:00</td>\n",
       "      <td>2017-10-10 21:25:13</td>\n",
       "      <td>2017-10-18 00:00:00</td>\n",
       "      <td>8.0</td>\n",
       "    </tr>\n",
       "    <tr>\n",
       "      <th>1</th>\n",
       "      <td>53cdb2fc8bc7dce0b6741e2150273451</td>\n",
       "      <td>b0830fb4747a6c6d20dea0b8c802d7ef</td>\n",
       "      <td>delivered</td>\n",
       "      <td>2018-07-24 20:41:37</td>\n",
       "      <td>2018-07-26 03:24:27</td>\n",
       "      <td>2018-07-26 14:31:00</td>\n",
       "      <td>2018-08-07 15:27:45</td>\n",
       "      <td>2018-08-13 00:00:00</td>\n",
       "      <td>14.0</td>\n",
       "    </tr>\n",
       "    <tr>\n",
       "      <th>2</th>\n",
       "      <td>47770eb9100c2d0c44946d9cf07ec65d</td>\n",
       "      <td>41ce2a54c0b03bf3443c3d931a367089</td>\n",
       "      <td>delivered</td>\n",
       "      <td>2018-08-08 08:38:49</td>\n",
       "      <td>2018-08-08 08:55:23</td>\n",
       "      <td>2018-08-08 13:50:00</td>\n",
       "      <td>2018-08-17 18:06:29</td>\n",
       "      <td>2018-09-04 00:00:00</td>\n",
       "      <td>9.0</td>\n",
       "    </tr>\n",
       "    <tr>\n",
       "      <th>3</th>\n",
       "      <td>949d5b44dbf5de918fe9c16f97b45f8a</td>\n",
       "      <td>f88197465ea7920adcdbec7375364d82</td>\n",
       "      <td>delivered</td>\n",
       "      <td>2017-11-18 19:28:06</td>\n",
       "      <td>2017-11-18 19:45:59</td>\n",
       "      <td>2017-11-22 13:39:59</td>\n",
       "      <td>2017-12-02 00:28:42</td>\n",
       "      <td>2017-12-15 00:00:00</td>\n",
       "      <td>13.0</td>\n",
       "    </tr>\n",
       "    <tr>\n",
       "      <th>4</th>\n",
       "      <td>ad21c59c0840e6cb83a9ceb5573f8159</td>\n",
       "      <td>8ab97904e6daea8866dbdbc4fb7aad2c</td>\n",
       "      <td>delivered</td>\n",
       "      <td>2018-02-13 21:18:39</td>\n",
       "      <td>2018-02-13 22:20:29</td>\n",
       "      <td>2018-02-14 19:46:34</td>\n",
       "      <td>2018-02-16 18:17:02</td>\n",
       "      <td>2018-02-26 00:00:00</td>\n",
       "      <td>3.0</td>\n",
       "    </tr>\n",
       "  </tbody>\n",
       "</table>\n",
       "</div>"
      ],
      "text/plain": [
       "                           order_id                       customer_id  \\\n",
       "0  e481f51cbdc54678b7cc49136f2d6af7  9ef432eb6251297304e76186b10a928d   \n",
       "1  53cdb2fc8bc7dce0b6741e2150273451  b0830fb4747a6c6d20dea0b8c802d7ef   \n",
       "2  47770eb9100c2d0c44946d9cf07ec65d  41ce2a54c0b03bf3443c3d931a367089   \n",
       "3  949d5b44dbf5de918fe9c16f97b45f8a  f88197465ea7920adcdbec7375364d82   \n",
       "4  ad21c59c0840e6cb83a9ceb5573f8159  8ab97904e6daea8866dbdbc4fb7aad2c   \n",
       "\n",
       "  order_status order_purchase_timestamp    order_approved_at  \\\n",
       "0    delivered      2017-10-02 10:56:33  2017-10-02 11:07:15   \n",
       "1    delivered      2018-07-24 20:41:37  2018-07-26 03:24:27   \n",
       "2    delivered      2018-08-08 08:38:49  2018-08-08 08:55:23   \n",
       "3    delivered      2017-11-18 19:28:06  2017-11-18 19:45:59   \n",
       "4    delivered      2018-02-13 21:18:39  2018-02-13 22:20:29   \n",
       "\n",
       "  order_delivered_carrier_date order_delivered_customer_date  \\\n",
       "0          2017-10-04 19:55:00           2017-10-10 21:25:13   \n",
       "1          2018-07-26 14:31:00           2018-08-07 15:27:45   \n",
       "2          2018-08-08 13:50:00           2018-08-17 18:06:29   \n",
       "3          2017-11-22 13:39:59           2017-12-02 00:28:42   \n",
       "4          2018-02-14 19:46:34           2018-02-16 18:17:02   \n",
       "\n",
       "  order_estimated_delivery_date  delivery_time  \n",
       "0           2017-10-18 00:00:00            8.0  \n",
       "1           2018-08-13 00:00:00           14.0  \n",
       "2           2018-09-04 00:00:00            9.0  \n",
       "3           2017-12-15 00:00:00           13.0  \n",
       "4           2018-02-26 00:00:00            3.0  "
      ]
     },
     "execution_count": 117,
     "metadata": {},
     "output_type": "execute_result"
    }
   ],
   "source": [
    "# Convert column value from str to datetime\n",
    "orders_df['order_delivered_customer_date'] = pd.to_datetime(orders_df['order_delivered_customer_date'])\n",
    "orders_df['order_purchase_timestamp'] = pd.to_datetime(orders_df['order_purchase_timestamp'])\n",
    "\n",
    "# Calculating the time difference\n",
    "delivery_time = orders_df[\"order_delivered_customer_date\"] - orders_df[\"order_purchase_timestamp\"]\n",
    "\n",
    "# Convert time difference value into days\n",
    "delivery_time_seconds = delivery_time.dt.total_seconds()\n",
    "orders_df[\"delivery_time\"] = round(delivery_time_seconds / 86400)\n",
    "\n",
    "orders_df.head()"
   ]
  },
  {
   "cell_type": "markdown",
   "id": "d3f78e92",
   "metadata": {},
   "source": [
    "#### Cheking Statistical Parameters"
   ]
  },
  {
   "cell_type": "code",
   "execution_count": 118,
   "id": "9f42e04c",
   "metadata": {},
   "outputs": [
    {
     "data": {
      "text/html": [
       "<div>\n",
       "<style scoped>\n",
       "    .dataframe tbody tr th:only-of-type {\n",
       "        vertical-align: middle;\n",
       "    }\n",
       "\n",
       "    .dataframe tbody tr th {\n",
       "        vertical-align: top;\n",
       "    }\n",
       "\n",
       "    .dataframe thead th {\n",
       "        text-align: right;\n",
       "    }\n",
       "</style>\n",
       "<table border=\"1\" class=\"dataframe\">\n",
       "  <thead>\n",
       "    <tr style=\"text-align: right;\">\n",
       "      <th></th>\n",
       "      <th>order_id</th>\n",
       "      <th>customer_id</th>\n",
       "      <th>order_status</th>\n",
       "      <th>order_purchase_timestamp</th>\n",
       "      <th>order_approved_at</th>\n",
       "      <th>order_delivered_carrier_date</th>\n",
       "      <th>order_delivered_customer_date</th>\n",
       "      <th>order_estimated_delivery_date</th>\n",
       "      <th>delivery_time</th>\n",
       "    </tr>\n",
       "  </thead>\n",
       "  <tbody>\n",
       "    <tr>\n",
       "      <th>count</th>\n",
       "      <td>99441</td>\n",
       "      <td>99441</td>\n",
       "      <td>99441</td>\n",
       "      <td>99441</td>\n",
       "      <td>99281</td>\n",
       "      <td>97658</td>\n",
       "      <td>96476</td>\n",
       "      <td>99441</td>\n",
       "      <td>96476.000000</td>\n",
       "    </tr>\n",
       "    <tr>\n",
       "      <th>unique</th>\n",
       "      <td>99441</td>\n",
       "      <td>99441</td>\n",
       "      <td>8</td>\n",
       "      <td>NaN</td>\n",
       "      <td>90733</td>\n",
       "      <td>81018</td>\n",
       "      <td>NaN</td>\n",
       "      <td>459</td>\n",
       "      <td>NaN</td>\n",
       "    </tr>\n",
       "    <tr>\n",
       "      <th>top</th>\n",
       "      <td>e481f51cbdc54678b7cc49136f2d6af7</td>\n",
       "      <td>9ef432eb6251297304e76186b10a928d</td>\n",
       "      <td>delivered</td>\n",
       "      <td>NaN</td>\n",
       "      <td>2018-02-27 04:31:10</td>\n",
       "      <td>2018-05-09 15:48:00</td>\n",
       "      <td>NaN</td>\n",
       "      <td>2017-12-20 00:00:00</td>\n",
       "      <td>NaN</td>\n",
       "    </tr>\n",
       "    <tr>\n",
       "      <th>freq</th>\n",
       "      <td>1</td>\n",
       "      <td>1</td>\n",
       "      <td>96478</td>\n",
       "      <td>NaN</td>\n",
       "      <td>9</td>\n",
       "      <td>47</td>\n",
       "      <td>NaN</td>\n",
       "      <td>522</td>\n",
       "      <td>NaN</td>\n",
       "    </tr>\n",
       "    <tr>\n",
       "      <th>mean</th>\n",
       "      <td>NaN</td>\n",
       "      <td>NaN</td>\n",
       "      <td>NaN</td>\n",
       "      <td>2017-12-31 08:43:12.776581120</td>\n",
       "      <td>NaN</td>\n",
       "      <td>NaN</td>\n",
       "      <td>2018-01-14 12:09:19.035542272</td>\n",
       "      <td>NaN</td>\n",
       "      <td>12.517548</td>\n",
       "    </tr>\n",
       "    <tr>\n",
       "      <th>min</th>\n",
       "      <td>NaN</td>\n",
       "      <td>NaN</td>\n",
       "      <td>NaN</td>\n",
       "      <td>2016-09-04 21:15:19</td>\n",
       "      <td>NaN</td>\n",
       "      <td>NaN</td>\n",
       "      <td>2016-10-11 13:46:32</td>\n",
       "      <td>NaN</td>\n",
       "      <td>1.000000</td>\n",
       "    </tr>\n",
       "    <tr>\n",
       "      <th>25%</th>\n",
       "      <td>NaN</td>\n",
       "      <td>NaN</td>\n",
       "      <td>NaN</td>\n",
       "      <td>2017-09-12 14:46:19</td>\n",
       "      <td>NaN</td>\n",
       "      <td>NaN</td>\n",
       "      <td>2017-09-25 22:07:22.249999872</td>\n",
       "      <td>NaN</td>\n",
       "      <td>7.000000</td>\n",
       "    </tr>\n",
       "    <tr>\n",
       "      <th>50%</th>\n",
       "      <td>NaN</td>\n",
       "      <td>NaN</td>\n",
       "      <td>NaN</td>\n",
       "      <td>2018-01-18 23:04:36</td>\n",
       "      <td>NaN</td>\n",
       "      <td>NaN</td>\n",
       "      <td>2018-02-02 19:28:10.500000</td>\n",
       "      <td>NaN</td>\n",
       "      <td>10.000000</td>\n",
       "    </tr>\n",
       "    <tr>\n",
       "      <th>75%</th>\n",
       "      <td>NaN</td>\n",
       "      <td>NaN</td>\n",
       "      <td>NaN</td>\n",
       "      <td>2018-05-04 15:42:16</td>\n",
       "      <td>NaN</td>\n",
       "      <td>NaN</td>\n",
       "      <td>2018-05-15 22:48:52.249999872</td>\n",
       "      <td>NaN</td>\n",
       "      <td>16.000000</td>\n",
       "    </tr>\n",
       "    <tr>\n",
       "      <th>max</th>\n",
       "      <td>NaN</td>\n",
       "      <td>NaN</td>\n",
       "      <td>NaN</td>\n",
       "      <td>2018-10-17 17:30:18</td>\n",
       "      <td>NaN</td>\n",
       "      <td>NaN</td>\n",
       "      <td>2018-10-17 13:22:46</td>\n",
       "      <td>NaN</td>\n",
       "      <td>210.000000</td>\n",
       "    </tr>\n",
       "    <tr>\n",
       "      <th>std</th>\n",
       "      <td>NaN</td>\n",
       "      <td>NaN</td>\n",
       "      <td>NaN</td>\n",
       "      <td>NaN</td>\n",
       "      <td>NaN</td>\n",
       "      <td>NaN</td>\n",
       "      <td>NaN</td>\n",
       "      <td>NaN</td>\n",
       "      <td>9.550516</td>\n",
       "    </tr>\n",
       "  </tbody>\n",
       "</table>\n",
       "</div>"
      ],
      "text/plain": [
       "                                order_id                       customer_id  \\\n",
       "count                              99441                             99441   \n",
       "unique                             99441                             99441   \n",
       "top     e481f51cbdc54678b7cc49136f2d6af7  9ef432eb6251297304e76186b10a928d   \n",
       "freq                                   1                                 1   \n",
       "mean                                 NaN                               NaN   \n",
       "min                                  NaN                               NaN   \n",
       "25%                                  NaN                               NaN   \n",
       "50%                                  NaN                               NaN   \n",
       "75%                                  NaN                               NaN   \n",
       "max                                  NaN                               NaN   \n",
       "std                                  NaN                               NaN   \n",
       "\n",
       "       order_status       order_purchase_timestamp    order_approved_at  \\\n",
       "count         99441                          99441                99281   \n",
       "unique            8                            NaN                90733   \n",
       "top       delivered                            NaN  2018-02-27 04:31:10   \n",
       "freq          96478                            NaN                    9   \n",
       "mean            NaN  2017-12-31 08:43:12.776581120                  NaN   \n",
       "min             NaN            2016-09-04 21:15:19                  NaN   \n",
       "25%             NaN            2017-09-12 14:46:19                  NaN   \n",
       "50%             NaN            2018-01-18 23:04:36                  NaN   \n",
       "75%             NaN            2018-05-04 15:42:16                  NaN   \n",
       "max             NaN            2018-10-17 17:30:18                  NaN   \n",
       "std             NaN                            NaN                  NaN   \n",
       "\n",
       "       order_delivered_carrier_date  order_delivered_customer_date  \\\n",
       "count                         97658                          96476   \n",
       "unique                        81018                            NaN   \n",
       "top             2018-05-09 15:48:00                            NaN   \n",
       "freq                             47                            NaN   \n",
       "mean                            NaN  2018-01-14 12:09:19.035542272   \n",
       "min                             NaN            2016-10-11 13:46:32   \n",
       "25%                             NaN  2017-09-25 22:07:22.249999872   \n",
       "50%                             NaN     2018-02-02 19:28:10.500000   \n",
       "75%                             NaN  2018-05-15 22:48:52.249999872   \n",
       "max                             NaN            2018-10-17 13:22:46   \n",
       "std                             NaN                            NaN   \n",
       "\n",
       "       order_estimated_delivery_date  delivery_time  \n",
       "count                          99441   96476.000000  \n",
       "unique                           459            NaN  \n",
       "top              2017-12-20 00:00:00            NaN  \n",
       "freq                             522            NaN  \n",
       "mean                             NaN      12.517548  \n",
       "min                              NaN       1.000000  \n",
       "25%                              NaN       7.000000  \n",
       "50%                              NaN      10.000000  \n",
       "75%                              NaN      16.000000  \n",
       "max                              NaN     210.000000  \n",
       "std                              NaN       9.550516  "
      ]
     },
     "execution_count": 118,
     "metadata": {},
     "output_type": "execute_result"
    }
   ],
   "source": [
    "orders_df.describe(include=\"all\", datetime_is_numeric=True)"
   ]
  },
  {
   "cell_type": "markdown",
   "id": "bcef21c3",
   "metadata": {},
   "source": [
    "### Exploration Product Category Dataset"
   ]
  },
  {
   "cell_type": "markdown",
   "id": "889679d5",
   "metadata": {},
   "source": [
    "#### View the number of products by category"
   ]
  },
  {
   "cell_type": "code",
   "execution_count": 119,
   "id": "3ded1b66",
   "metadata": {},
   "outputs": [
    {
     "name": "stdout",
     "output_type": "stream",
     "text": [
      "Number of products by category:\n",
      "cama_mesa_banho                  3029\n",
      "esporte_lazer                    2867\n",
      "moveis_decoracao                 2657\n",
      "beleza_saude                     2444\n",
      "utilidades_domesticas            2335\n",
      "                                 ... \n",
      "fashion_roupa_infanto_juvenil       5\n",
      "casa_conforto_2                     5\n",
      "pc_gamer                            3\n",
      "seguros_e_servicos                  2\n",
      "cds_dvds_musicais                   1\n",
      "Name: product_category_name, Length: 73, dtype: int64\n"
     ]
    }
   ],
   "source": [
    "product_category_counts = products_df['product_category_name'].value_counts()\n",
    "print(\"Number of products by category:\")\n",
    "print(product_category_counts)"
   ]
  },
  {
   "cell_type": "markdown",
   "id": "bcd0fd99",
   "metadata": {},
   "source": [
    "### Exploratioan Seller Dataset"
   ]
  },
  {
   "cell_type": "markdown",
   "id": "a9916614",
   "metadata": {},
   "source": [
    "#### View the number of sellers in each city"
   ]
  },
  {
   "cell_type": "code",
   "execution_count": 120,
   "id": "443e0e07",
   "metadata": {},
   "outputs": [
    {
     "name": "stdout",
     "output_type": "stream",
     "text": [
      "Number of sellers by city:\n",
      "sao paulo              694\n",
      "curitiba               127\n",
      "rio de janeiro          96\n",
      "belo horizonte          68\n",
      "ribeirao preto          52\n",
      "                      ... \n",
      "taruma                   1\n",
      "s jose do rio preto      1\n",
      "domingos martins         1\n",
      "messias targino          1\n",
      "leme                     1\n",
      "Name: seller_city, Length: 611, dtype: int64\n"
     ]
    }
   ],
   "source": [
    "city_seller_counts = sellers_df['seller_city'].value_counts()\n",
    "print(\"Number of sellers by city:\")\n",
    "print(city_seller_counts)"
   ]
  },
  {
   "cell_type": "markdown",
   "id": "b8d3cc70",
   "metadata": {},
   "source": [
    "#### View the number of sellers in each state"
   ]
  },
  {
   "cell_type": "code",
   "execution_count": 121,
   "id": "243da308",
   "metadata": {},
   "outputs": [
    {
     "name": "stdout",
     "output_type": "stream",
     "text": [
      "Number of sellers by state:\n",
      "SP    1849\n",
      "PR     349\n",
      "MG     244\n",
      "SC     190\n",
      "RJ     171\n",
      "RS     129\n",
      "GO      40\n",
      "DF      30\n",
      "ES      23\n",
      "BA      19\n",
      "CE      13\n",
      "PE       9\n",
      "PB       6\n",
      "RN       5\n",
      "MS       5\n",
      "MT       4\n",
      "RO       2\n",
      "SE       2\n",
      "PI       1\n",
      "AC       1\n",
      "MA       1\n",
      "AM       1\n",
      "PA       1\n",
      "Name: seller_state, dtype: int64\n"
     ]
    }
   ],
   "source": [
    "state_seller_counts = sellers_df['seller_state'].value_counts()\n",
    "print(\"Number of sellers by state:\")\n",
    "print(state_seller_counts)"
   ]
  },
  {
   "cell_type": "markdown",
   "id": "700708e9",
   "metadata": {},
   "source": [
    "### Merge Dataset"
   ]
  },
  {
   "cell_type": "markdown",
   "id": "cb61c82a",
   "metadata": {},
   "source": [
    "#### Merging Customer and Order Dataset"
   ]
  },
  {
   "cell_type": "code",
   "execution_count": 122,
   "id": "ffccc21c",
   "metadata": {},
   "outputs": [
    {
     "name": "stdout",
     "output_type": "stream",
     "text": [
      "<class 'pandas.core.frame.DataFrame'>\n",
      "Int64Index: 99441 entries, 0 to 99440\n",
      "Data columns (total 13 columns):\n",
      " #   Column                         Non-Null Count  Dtype         \n",
      "---  ------                         --------------  -----         \n",
      " 0   customer_id                    99441 non-null  object        \n",
      " 1   customer_unique_id             99441 non-null  object        \n",
      " 2   customer_zip_code_prefix       99441 non-null  int64         \n",
      " 3   customer_city                  99441 non-null  object        \n",
      " 4   customer_state                 99441 non-null  object        \n",
      " 5   order_id                       99441 non-null  object        \n",
      " 6   order_status                   99441 non-null  object        \n",
      " 7   order_purchase_timestamp       99441 non-null  datetime64[ns]\n",
      " 8   order_approved_at              99281 non-null  object        \n",
      " 9   order_delivered_carrier_date   97658 non-null  object        \n",
      " 10  order_delivered_customer_date  96476 non-null  datetime64[ns]\n",
      " 11  order_estimated_delivery_date  99441 non-null  object        \n",
      " 12  delivery_time                  96476 non-null  float64       \n",
      "dtypes: datetime64[ns](2), float64(1), int64(1), object(9)\n",
      "memory usage: 10.6+ MB\n"
     ]
    }
   ],
   "source": [
    "customer_order_df = pd.merge(\n",
    "    left=customers_df,\n",
    "    right=orders_df,\n",
    "    how=\"left\",\n",
    "    left_on=\"customer_id\",\n",
    "    right_on=\"customer_id\"\n",
    ")\n",
    "customer_order_df.info()"
   ]
  },
  {
   "cell_type": "markdown",
   "id": "149ae623",
   "metadata": {},
   "source": [
    "#### Merging Product and Order Dataset"
   ]
  },
  {
   "cell_type": "code",
   "execution_count": 123,
   "id": "170f307d",
   "metadata": {},
   "outputs": [
    {
     "name": "stdout",
     "output_type": "stream",
     "text": [
      "<class 'pandas.core.frame.DataFrame'>\n",
      "Int64Index: 99441 entries, 0 to 99440\n",
      "Data columns (total 13 columns):\n",
      " #   Column                         Non-Null Count  Dtype         \n",
      "---  ------                         --------------  -----         \n",
      " 0   customer_id                    99441 non-null  object        \n",
      " 1   customer_unique_id             99441 non-null  object        \n",
      " 2   customer_zip_code_prefix       99441 non-null  int64         \n",
      " 3   customer_city                  99441 non-null  object        \n",
      " 4   customer_state                 99441 non-null  object        \n",
      " 5   order_id                       99441 non-null  object        \n",
      " 6   order_status                   99441 non-null  object        \n",
      " 7   order_purchase_timestamp       99441 non-null  datetime64[ns]\n",
      " 8   order_approved_at              99281 non-null  object        \n",
      " 9   order_delivered_carrier_date   97658 non-null  object        \n",
      " 10  order_delivered_customer_date  96476 non-null  datetime64[ns]\n",
      " 11  order_estimated_delivery_date  99441 non-null  object        \n",
      " 12  delivery_time                  96476 non-null  float64       \n",
      "dtypes: datetime64[ns](2), float64(1), int64(1), object(9)\n",
      "memory usage: 10.6+ MB\n"
     ]
    }
   ],
   "source": [
    "products_order_df = pd.merge(\n",
    "    left=products_df_clean,\n",
    "    right=order_item_df,\n",
    "    how=\"left\",\n",
    "    left_on=\"product_id\",\n",
    "    right_on=\"product_id\"\n",
    ")\n",
    "customer_order_df.info()"
   ]
  },
  {
   "cell_type": "markdown",
   "id": "3834cf7a",
   "metadata": {},
   "source": [
    "#### Merging Product Order and Order Review Dataset"
   ]
  },
  {
   "cell_type": "code",
   "execution_count": 124,
   "id": "b6ad4005",
   "metadata": {},
   "outputs": [
    {
     "name": "stdout",
     "output_type": "stream",
     "text": [
      "<class 'pandas.core.frame.DataFrame'>\n",
      "Int64Index: 111701 entries, 0 to 111700\n",
      "Data columns (total 19 columns):\n",
      " #   Column                      Non-Null Count   Dtype  \n",
      "---  ------                      --------------   -----  \n",
      " 0   product_id                  111701 non-null  object \n",
      " 1   product_category_name       111701 non-null  object \n",
      " 2   product_name_lenght         111701 non-null  float64\n",
      " 3   product_description_lenght  111701 non-null  float64\n",
      " 4   product_photos_qty          111701 non-null  float64\n",
      " 5   product_weight_g            111701 non-null  float64\n",
      " 6   product_length_cm           111701 non-null  float64\n",
      " 7   product_height_cm           111701 non-null  float64\n",
      " 8   product_width_cm            111701 non-null  float64\n",
      " 9   order_id                    111701 non-null  object \n",
      " 10  order_item_id               111701 non-null  int64  \n",
      " 11  seller_id                   111701 non-null  object \n",
      " 12  shipping_limit_date         111701 non-null  object \n",
      " 13  price                       111701 non-null  float64\n",
      " 14  freight_value               111701 non-null  float64\n",
      " 15  review_id                   110773 non-null  object \n",
      " 16  review_score                110773 non-null  float64\n",
      " 17  review_creation_date        110773 non-null  object \n",
      " 18  review_answer_timestamp     110773 non-null  object \n",
      "dtypes: float64(10), int64(1), object(8)\n",
      "memory usage: 17.0+ MB\n"
     ]
    }
   ],
   "source": [
    "products_order_review_df = pd.merge(\n",
    "    left=products_order_df,\n",
    "    right=new_order_reviews_df,\n",
    "    how=\"left\",\n",
    "    left_on=\"order_id\",\n",
    "    right_on=\"order_id\"\n",
    ")\n",
    "products_order_review_df.info()"
   ]
  },
  {
   "cell_type": "markdown",
   "id": "d0cbaf04",
   "metadata": {},
   "source": [
    "#### Merging All Dataset"
   ]
  },
  {
   "cell_type": "code",
   "execution_count": 125,
   "id": "b69561b8",
   "metadata": {},
   "outputs": [
    {
     "name": "stdout",
     "output_type": "stream",
     "text": [
      "<class 'pandas.core.frame.DataFrame'>\n",
      "Int64Index: 111701 entries, 0 to 111700\n",
      "Data columns (total 31 columns):\n",
      " #   Column                         Non-Null Count   Dtype         \n",
      "---  ------                         --------------   -----         \n",
      " 0   product_id                     111701 non-null  object        \n",
      " 1   product_category_name          111701 non-null  object        \n",
      " 2   product_name_lenght            111701 non-null  float64       \n",
      " 3   product_description_lenght     111701 non-null  float64       \n",
      " 4   product_photos_qty             111701 non-null  float64       \n",
      " 5   product_weight_g               111701 non-null  float64       \n",
      " 6   product_length_cm              111701 non-null  float64       \n",
      " 7   product_height_cm              111701 non-null  float64       \n",
      " 8   product_width_cm               111701 non-null  float64       \n",
      " 9   order_id                       111701 non-null  object        \n",
      " 10  order_item_id                  111701 non-null  int64         \n",
      " 11  seller_id                      111701 non-null  object        \n",
      " 12  shipping_limit_date            111701 non-null  object        \n",
      " 13  price                          111701 non-null  float64       \n",
      " 14  freight_value                  111701 non-null  float64       \n",
      " 15  review_id                      110773 non-null  object        \n",
      " 16  review_score                   110773 non-null  float64       \n",
      " 17  review_creation_date           110773 non-null  object        \n",
      " 18  review_answer_timestamp        110773 non-null  object        \n",
      " 19  customer_id                    111701 non-null  object        \n",
      " 20  customer_unique_id             111701 non-null  object        \n",
      " 21  customer_zip_code_prefix       111701 non-null  int64         \n",
      " 22  customer_city                  111701 non-null  object        \n",
      " 23  customer_state                 111701 non-null  object        \n",
      " 24  order_status                   111701 non-null  object        \n",
      " 25  order_purchase_timestamp       111701 non-null  datetime64[ns]\n",
      " 26  order_approved_at              111687 non-null  object        \n",
      " 27  order_delivered_carrier_date   110536 non-null  object        \n",
      " 28  order_delivered_customer_date  109293 non-null  datetime64[ns]\n",
      " 29  order_estimated_delivery_date  111701 non-null  object        \n",
      " 30  delivery_time                  109293 non-null  float64       \n",
      "dtypes: datetime64[ns](2), float64(11), int64(2), object(16)\n",
      "memory usage: 27.3+ MB\n"
     ]
    }
   ],
   "source": [
    "all_data_df = pd.merge(\n",
    "    left=products_order_review_df,\n",
    "    right=customer_order_df,\n",
    "    how=\"left\",\n",
    "    left_on=\"order_id\",\n",
    "    right_on=\"order_id\"\n",
    ")\n",
    "all_data_df.info()"
   ]
  },
  {
   "cell_type": "markdown",
   "id": "bbeff4b7",
   "metadata": {},
   "source": [
    "#### Exploration Data After Merge"
   ]
  },
  {
   "cell_type": "markdown",
   "id": "83a2d8d9",
   "metadata": {},
   "source": [
    "##### Counts each review range in each product category"
   ]
  },
  {
   "cell_type": "code",
   "execution_count": 126,
   "id": "7d396c85",
   "metadata": {},
   "outputs": [
    {
     "data": {
      "text/html": [
       "<div>\n",
       "<style scoped>\n",
       "    .dataframe tbody tr th:only-of-type {\n",
       "        vertical-align: middle;\n",
       "    }\n",
       "\n",
       "    .dataframe tbody tr th {\n",
       "        vertical-align: top;\n",
       "    }\n",
       "\n",
       "    .dataframe thead th {\n",
       "        text-align: right;\n",
       "    }\n",
       "</style>\n",
       "<table border=\"1\" class=\"dataframe\">\n",
       "  <thead>\n",
       "    <tr style=\"text-align: right;\">\n",
       "      <th>review_score</th>\n",
       "      <th>1.0</th>\n",
       "      <th>2.0</th>\n",
       "      <th>3.0</th>\n",
       "      <th>4.0</th>\n",
       "      <th>5.0</th>\n",
       "    </tr>\n",
       "    <tr>\n",
       "      <th>product_category_name</th>\n",
       "      <th></th>\n",
       "      <th></th>\n",
       "      <th></th>\n",
       "      <th></th>\n",
       "      <th></th>\n",
       "    </tr>\n",
       "  </thead>\n",
       "  <tbody>\n",
       "    <tr>\n",
       "      <th>agro_industria_e_comercio</th>\n",
       "      <td>27</td>\n",
       "      <td>7</td>\n",
       "      <td>13</td>\n",
       "      <td>57</td>\n",
       "      <td>108</td>\n",
       "    </tr>\n",
       "    <tr>\n",
       "      <th>alimentos</th>\n",
       "      <td>51</td>\n",
       "      <td>13</td>\n",
       "      <td>26</td>\n",
       "      <td>92</td>\n",
       "      <td>313</td>\n",
       "    </tr>\n",
       "    <tr>\n",
       "      <th>alimentos_bebidas</th>\n",
       "      <td>17</td>\n",
       "      <td>5</td>\n",
       "      <td>29</td>\n",
       "      <td>50</td>\n",
       "      <td>178</td>\n",
       "    </tr>\n",
       "    <tr>\n",
       "      <th>artes</th>\n",
       "      <td>31</td>\n",
       "      <td>7</td>\n",
       "      <td>18</td>\n",
       "      <td>39</td>\n",
       "      <td>112</td>\n",
       "    </tr>\n",
       "    <tr>\n",
       "      <th>artes_e_artesanato</th>\n",
       "      <td>3</td>\n",
       "      <td>0</td>\n",
       "      <td>3</td>\n",
       "      <td>3</td>\n",
       "      <td>15</td>\n",
       "    </tr>\n",
       "  </tbody>\n",
       "</table>\n",
       "</div>"
      ],
      "text/plain": [
       "review_score               1.0  2.0  3.0  4.0  5.0\n",
       "product_category_name                             \n",
       "agro_industria_e_comercio   27    7   13   57  108\n",
       "alimentos                   51   13   26   92  313\n",
       "alimentos_bebidas           17    5   29   50  178\n",
       "artes                       31    7   18   39  112\n",
       "artes_e_artesanato           3    0    3    3   15"
      ]
     },
     "execution_count": 126,
     "metadata": {},
     "output_type": "execute_result"
    }
   ],
   "source": [
    "score_counts_by_category = all_data_df.groupby(['product_category_name', 'review_score']).size()\n",
    "result_df = score_counts_by_category.unstack(fill_value=0)\n",
    "\n",
    "result_df.head()"
   ]
  },
  {
   "cell_type": "markdown",
   "id": "ab060b4f",
   "metadata": {},
   "source": [
    "##### Find the lowest, average and highest price of each product category"
   ]
  },
  {
   "cell_type": "code",
   "execution_count": 127,
   "id": "b5cd6143",
   "metadata": {},
   "outputs": [
    {
     "data": {
      "text/html": [
       "<div>\n",
       "<style scoped>\n",
       "    .dataframe tbody tr th:only-of-type {\n",
       "        vertical-align: middle;\n",
       "    }\n",
       "\n",
       "    .dataframe tbody tr th {\n",
       "        vertical-align: top;\n",
       "    }\n",
       "\n",
       "    .dataframe thead th {\n",
       "        text-align: right;\n",
       "    }\n",
       "</style>\n",
       "<table border=\"1\" class=\"dataframe\">\n",
       "  <thead>\n",
       "    <tr style=\"text-align: right;\">\n",
       "      <th></th>\n",
       "      <th>min</th>\n",
       "      <th>mean</th>\n",
       "      <th>max</th>\n",
       "    </tr>\n",
       "    <tr>\n",
       "      <th>product_category_name</th>\n",
       "      <th></th>\n",
       "      <th></th>\n",
       "      <th></th>\n",
       "    </tr>\n",
       "  </thead>\n",
       "  <tbody>\n",
       "    <tr>\n",
       "      <th>agro_industria_e_comercio</th>\n",
       "      <td>12.99</td>\n",
       "      <td>342.124858</td>\n",
       "      <td>2990.00</td>\n",
       "    </tr>\n",
       "    <tr>\n",
       "      <th>alimentos</th>\n",
       "      <td>9.99</td>\n",
       "      <td>57.634137</td>\n",
       "      <td>274.99</td>\n",
       "    </tr>\n",
       "    <tr>\n",
       "      <th>alimentos_bebidas</th>\n",
       "      <td>6.50</td>\n",
       "      <td>54.537393</td>\n",
       "      <td>699.90</td>\n",
       "    </tr>\n",
       "    <tr>\n",
       "      <th>artes</th>\n",
       "      <td>3.50</td>\n",
       "      <td>115.802105</td>\n",
       "      <td>6499.00</td>\n",
       "    </tr>\n",
       "    <tr>\n",
       "      <th>artes_e_artesanato</th>\n",
       "      <td>9.80</td>\n",
       "      <td>75.583750</td>\n",
       "      <td>289.49</td>\n",
       "    </tr>\n",
       "  </tbody>\n",
       "</table>\n",
       "</div>"
      ],
      "text/plain": [
       "                             min        mean      max\n",
       "product_category_name                                \n",
       "agro_industria_e_comercio  12.99  342.124858  2990.00\n",
       "alimentos                   9.99   57.634137   274.99\n",
       "alimentos_bebidas           6.50   54.537393   699.90\n",
       "artes                       3.50  115.802105  6499.00\n",
       "artes_e_artesanato          9.80   75.583750   289.49"
      ]
     },
     "execution_count": 127,
     "metadata": {},
     "output_type": "execute_result"
    }
   ],
   "source": [
    "price_stats_by_category = all_data_df.groupby('product_category_name')['price'].agg(['min', 'mean', 'max'])\n",
    "\n",
    "price_stats_by_category.head()"
   ]
  },
  {
   "cell_type": "markdown",
   "id": "b7b3d203",
   "metadata": {},
   "source": [
    "##### View the number of orders each day"
   ]
  },
  {
   "cell_type": "code",
   "execution_count": 128,
   "id": "9762f2c4",
   "metadata": {},
   "outputs": [
    {
     "name": "stdout",
     "output_type": "stream",
     "text": [
      "order_purchase_timestamp\n",
      "2016-09-04     2\n",
      "2016-09-05     1\n",
      "2016-09-15     3\n",
      "2016-10-02     1\n",
      "2016-10-03     8\n",
      "              ..\n",
      "2018-08-26    81\n",
      "2018-08-27    70\n",
      "2018-08-28    45\n",
      "2018-08-29    16\n",
      "2018-09-03     1\n",
      "Length: 616, dtype: int64\n"
     ]
    }
   ],
   "source": [
    "daily_order_count = all_data_df.groupby(all_data_df['order_purchase_timestamp'].dt.date).size()\n",
    "\n",
    "print(daily_order_count)"
   ]
  },
  {
   "cell_type": "markdown",
   "id": "698929be",
   "metadata": {},
   "source": [
    "##### View the delivery time in each review score range"
   ]
  },
  {
   "cell_type": "code",
   "execution_count": 129,
   "id": "0b406d76",
   "metadata": {},
   "outputs": [
    {
     "data": {
      "text/html": [
       "<div>\n",
       "<style scoped>\n",
       "    .dataframe tbody tr th:only-of-type {\n",
       "        vertical-align: middle;\n",
       "    }\n",
       "\n",
       "    .dataframe tbody tr th {\n",
       "        vertical-align: top;\n",
       "    }\n",
       "\n",
       "    .dataframe thead th {\n",
       "        text-align: right;\n",
       "    }\n",
       "</style>\n",
       "<table border=\"1\" class=\"dataframe\">\n",
       "  <thead>\n",
       "    <tr style=\"text-align: right;\">\n",
       "      <th></th>\n",
       "      <th>min</th>\n",
       "      <th>mean</th>\n",
       "      <th>max</th>\n",
       "    </tr>\n",
       "    <tr>\n",
       "      <th>review_score</th>\n",
       "      <th></th>\n",
       "      <th></th>\n",
       "      <th></th>\n",
       "    </tr>\n",
       "  </thead>\n",
       "  <tbody>\n",
       "    <tr>\n",
       "      <th>1.0</th>\n",
       "      <td>1.0</td>\n",
       "      <td>19.577045</td>\n",
       "      <td>196.0</td>\n",
       "    </tr>\n",
       "    <tr>\n",
       "      <th>2.0</th>\n",
       "      <td>1.0</td>\n",
       "      <td>15.662915</td>\n",
       "      <td>208.0</td>\n",
       "    </tr>\n",
       "    <tr>\n",
       "      <th>3.0</th>\n",
       "      <td>1.0</td>\n",
       "      <td>14.006122</td>\n",
       "      <td>188.0</td>\n",
       "    </tr>\n",
       "    <tr>\n",
       "      <th>4.0</th>\n",
       "      <td>1.0</td>\n",
       "      <td>12.174679</td>\n",
       "      <td>195.0</td>\n",
       "    </tr>\n",
       "    <tr>\n",
       "      <th>5.0</th>\n",
       "      <td>1.0</td>\n",
       "      <td>10.613742</td>\n",
       "      <td>187.0</td>\n",
       "    </tr>\n",
       "  </tbody>\n",
       "</table>\n",
       "</div>"
      ],
      "text/plain": [
       "              min       mean    max\n",
       "review_score                       \n",
       "1.0           1.0  19.577045  196.0\n",
       "2.0           1.0  15.662915  208.0\n",
       "3.0           1.0  14.006122  188.0\n",
       "4.0           1.0  12.174679  195.0\n",
       "5.0           1.0  10.613742  187.0"
      ]
     },
     "execution_count": 129,
     "metadata": {},
     "output_type": "execute_result"
    }
   ],
   "source": [
    "delivery_time_stats_by_review_score = all_data_df.groupby('review_score')['delivery_time'].agg(['min', 'mean', 'max'])\n",
    "\n",
    "delivery_time_stats_by_review_score.head()"
   ]
  },
  {
   "cell_type": "markdown",
   "id": "7d859a8d",
   "metadata": {},
   "source": [
    "##### View the average review score each day"
   ]
  },
  {
   "cell_type": "code",
   "execution_count": 130,
   "id": "afd65a52",
   "metadata": {},
   "outputs": [
    {
     "name": "stdout",
     "output_type": "stream",
     "text": [
      "order_purchase_timestamp\n",
      "2016-09-04    1.000000\n",
      "2016-09-05    1.000000\n",
      "2016-09-15    1.000000\n",
      "2016-10-02    1.000000\n",
      "2016-10-03    3.000000\n",
      "                ...   \n",
      "2018-08-26    4.320988\n",
      "2018-08-27    4.347826\n",
      "2018-08-28    4.466667\n",
      "2018-08-29    4.375000\n",
      "2018-09-03    1.000000\n",
      "Name: review_score, Length: 616, dtype: float64\n"
     ]
    }
   ],
   "source": [
    "daily_review_score_mean = all_data_df.groupby(all_data_df['order_purchase_timestamp'].dt.date)['review_score'].mean()\n",
    "\n",
    "print(daily_review_score_mean)"
   ]
  },
  {
   "cell_type": "markdown",
   "id": "34cd5350",
   "metadata": {},
   "source": [
    "##### View the largest total purchases by stat"
   ]
  },
  {
   "cell_type": "code",
   "execution_count": 131,
   "id": "f26b8ac9",
   "metadata": {},
   "outputs": [
    {
     "data": {
      "text/html": [
       "<div>\n",
       "<style scoped>\n",
       "    .dataframe tbody tr th:only-of-type {\n",
       "        vertical-align: middle;\n",
       "    }\n",
       "\n",
       "    .dataframe tbody tr th {\n",
       "        vertical-align: top;\n",
       "    }\n",
       "\n",
       "    .dataframe thead th {\n",
       "        text-align: right;\n",
       "    }\n",
       "</style>\n",
       "<table border=\"1\" class=\"dataframe\">\n",
       "  <thead>\n",
       "    <tr style=\"text-align: right;\">\n",
       "      <th></th>\n",
       "      <th>order_id</th>\n",
       "      <th>price</th>\n",
       "    </tr>\n",
       "    <tr>\n",
       "      <th>customer_state</th>\n",
       "      <th></th>\n",
       "      <th></th>\n",
       "    </tr>\n",
       "  </thead>\n",
       "  <tbody>\n",
       "    <tr>\n",
       "      <th>SP</th>\n",
       "      <td>40811</td>\n",
       "      <td>5161564.58</td>\n",
       "    </tr>\n",
       "    <tr>\n",
       "      <th>RJ</th>\n",
       "      <td>12571</td>\n",
       "      <td>1807748.25</td>\n",
       "    </tr>\n",
       "    <tr>\n",
       "      <th>MG</th>\n",
       "      <td>11378</td>\n",
       "      <td>1573254.22</td>\n",
       "    </tr>\n",
       "    <tr>\n",
       "      <th>RS</th>\n",
       "      <td>5352</td>\n",
       "      <td>743901.63</td>\n",
       "    </tr>\n",
       "    <tr>\n",
       "      <th>PR</th>\n",
       "      <td>4928</td>\n",
       "      <td>677414.28</td>\n",
       "    </tr>\n",
       "    <tr>\n",
       "      <th>SC</th>\n",
       "      <td>3554</td>\n",
       "      <td>514856.56</td>\n",
       "    </tr>\n",
       "    <tr>\n",
       "      <th>BA</th>\n",
       "      <td>3315</td>\n",
       "      <td>506475.95</td>\n",
       "    </tr>\n",
       "    <tr>\n",
       "      <th>DF</th>\n",
       "      <td>2094</td>\n",
       "      <td>301956.36</td>\n",
       "    </tr>\n",
       "    <tr>\n",
       "      <th>GO</th>\n",
       "      <td>1960</td>\n",
       "      <td>288737.73</td>\n",
       "    </tr>\n",
       "    <tr>\n",
       "      <th>ES</th>\n",
       "      <td>2008</td>\n",
       "      <td>274296.41</td>\n",
       "    </tr>\n",
       "    <tr>\n",
       "      <th>PE</th>\n",
       "      <td>1631</td>\n",
       "      <td>259664.01</td>\n",
       "    </tr>\n",
       "    <tr>\n",
       "      <th>CE</th>\n",
       "      <td>1312</td>\n",
       "      <td>224384.93</td>\n",
       "    </tr>\n",
       "    <tr>\n",
       "      <th>PA</th>\n",
       "      <td>952</td>\n",
       "      <td>170250.90</td>\n",
       "    </tr>\n",
       "    <tr>\n",
       "      <th>MT</th>\n",
       "      <td>891</td>\n",
       "      <td>155698.83</td>\n",
       "    </tr>\n",
       "    <tr>\n",
       "      <th>MA</th>\n",
       "      <td>730</td>\n",
       "      <td>118243.18</td>\n",
       "    </tr>\n",
       "    <tr>\n",
       "      <th>MS</th>\n",
       "      <td>700</td>\n",
       "      <td>117581.75</td>\n",
       "    </tr>\n",
       "    <tr>\n",
       "      <th>PB</th>\n",
       "      <td>523</td>\n",
       "      <td>112566.64</td>\n",
       "    </tr>\n",
       "    <tr>\n",
       "      <th>PI</th>\n",
       "      <td>486</td>\n",
       "      <td>86399.91</td>\n",
       "    </tr>\n",
       "    <tr>\n",
       "      <th>RN</th>\n",
       "      <td>476</td>\n",
       "      <td>82509.75</td>\n",
       "    </tr>\n",
       "    <tr>\n",
       "      <th>AL</th>\n",
       "      <td>407</td>\n",
       "      <td>79943.79</td>\n",
       "    </tr>\n",
       "    <tr>\n",
       "      <th>SE</th>\n",
       "      <td>343</td>\n",
       "      <td>58747.10</td>\n",
       "    </tr>\n",
       "    <tr>\n",
       "      <th>TO</th>\n",
       "      <td>275</td>\n",
       "      <td>49109.75</td>\n",
       "    </tr>\n",
       "    <tr>\n",
       "      <th>RO</th>\n",
       "      <td>242</td>\n",
       "      <td>45560.98</td>\n",
       "    </tr>\n",
       "    <tr>\n",
       "      <th>AM</th>\n",
       "      <td>146</td>\n",
       "      <td>21870.94</td>\n",
       "    </tr>\n",
       "    <tr>\n",
       "      <th>AC</th>\n",
       "      <td>79</td>\n",
       "      <td>15916.05</td>\n",
       "    </tr>\n",
       "    <tr>\n",
       "      <th>AP</th>\n",
       "      <td>68</td>\n",
       "      <td>13474.30</td>\n",
       "    </tr>\n",
       "    <tr>\n",
       "      <th>RR</th>\n",
       "      <td>44</td>\n",
       "      <td>7583.45</td>\n",
       "    </tr>\n",
       "  </tbody>\n",
       "</table>\n",
       "</div>"
      ],
      "text/plain": [
       "                order_id       price\n",
       "customer_state                      \n",
       "SP                 40811  5161564.58\n",
       "RJ                 12571  1807748.25\n",
       "MG                 11378  1573254.22\n",
       "RS                  5352   743901.63\n",
       "PR                  4928   677414.28\n",
       "SC                  3554   514856.56\n",
       "BA                  3315   506475.95\n",
       "DF                  2094   301956.36\n",
       "GO                  1960   288737.73\n",
       "ES                  2008   274296.41\n",
       "PE                  1631   259664.01\n",
       "CE                  1312   224384.93\n",
       "PA                   952   170250.90\n",
       "MT                   891   155698.83\n",
       "MA                   730   118243.18\n",
       "MS                   700   117581.75\n",
       "PB                   523   112566.64\n",
       "PI                   486    86399.91\n",
       "RN                   476    82509.75\n",
       "AL                   407    79943.79\n",
       "SE                   343    58747.10\n",
       "TO                   275    49109.75\n",
       "RO                   242    45560.98\n",
       "AM                   146    21870.94\n",
       "AC                    79    15916.05\n",
       "AP                    68    13474.30\n",
       "RR                    44     7583.45"
      ]
     },
     "execution_count": 131,
     "metadata": {},
     "output_type": "execute_result"
    }
   ],
   "source": [
    "all_data_df.groupby(by=\"customer_state\").agg({\n",
    "    \"order_id\": \"nunique\",\n",
    "    \"price\": \"sum\"\n",
    "}).sort_values(by=\"price\", ascending=False)"
   ]
  },
  {
   "cell_type": "markdown",
   "id": "0cf6727b",
   "metadata": {},
   "source": [
    "##### View the average review score by state"
   ]
  },
  {
   "cell_type": "code",
   "execution_count": 144,
   "id": "d3546aa8",
   "metadata": {},
   "outputs": [
    {
     "data": {
      "text/html": [
       "<div>\n",
       "<style scoped>\n",
       "    .dataframe tbody tr th:only-of-type {\n",
       "        vertical-align: middle;\n",
       "    }\n",
       "\n",
       "    .dataframe tbody tr th {\n",
       "        vertical-align: top;\n",
       "    }\n",
       "\n",
       "    .dataframe thead th {\n",
       "        text-align: right;\n",
       "    }\n",
       "</style>\n",
       "<table border=\"1\" class=\"dataframe\">\n",
       "  <thead>\n",
       "    <tr style=\"text-align: right;\">\n",
       "      <th></th>\n",
       "      <th>order_id</th>\n",
       "      <th>review_score</th>\n",
       "    </tr>\n",
       "    <tr>\n",
       "      <th>customer_state</th>\n",
       "      <th></th>\n",
       "      <th></th>\n",
       "    </tr>\n",
       "  </thead>\n",
       "  <tbody>\n",
       "    <tr>\n",
       "      <th>AP</th>\n",
       "      <td>68</td>\n",
       "      <td>4.222222</td>\n",
       "    </tr>\n",
       "    <tr>\n",
       "      <th>SP</th>\n",
       "      <td>40811</td>\n",
       "      <td>4.130311</td>\n",
       "    </tr>\n",
       "    <tr>\n",
       "      <th>TO</th>\n",
       "      <td>275</td>\n",
       "      <td>4.113269</td>\n",
       "    </tr>\n",
       "    <tr>\n",
       "      <th>PR</th>\n",
       "      <td>4928</td>\n",
       "      <td>4.104472</td>\n",
       "    </tr>\n",
       "    <tr>\n",
       "      <th>AM</th>\n",
       "      <td>146</td>\n",
       "      <td>4.086420</td>\n",
       "    </tr>\n",
       "    <tr>\n",
       "      <th>MG</th>\n",
       "      <td>11378</td>\n",
       "      <td>4.086086</td>\n",
       "    </tr>\n",
       "    <tr>\n",
       "      <th>AC</th>\n",
       "      <td>79</td>\n",
       "      <td>4.077778</td>\n",
       "    </tr>\n",
       "    <tr>\n",
       "      <th>RN</th>\n",
       "      <td>476</td>\n",
       "      <td>4.076775</td>\n",
       "    </tr>\n",
       "    <tr>\n",
       "      <th>RS</th>\n",
       "      <td>5352</td>\n",
       "      <td>4.059864</td>\n",
       "    </tr>\n",
       "    <tr>\n",
       "      <th>MS</th>\n",
       "      <td>700</td>\n",
       "      <td>4.054878</td>\n",
       "    </tr>\n",
       "    <tr>\n",
       "      <th>RO</th>\n",
       "      <td>242</td>\n",
       "      <td>4.018450</td>\n",
       "    </tr>\n",
       "    <tr>\n",
       "      <th>SC</th>\n",
       "      <td>3554</td>\n",
       "      <td>4.008307</td>\n",
       "    </tr>\n",
       "    <tr>\n",
       "      <th>DF</th>\n",
       "      <td>2094</td>\n",
       "      <td>4.001259</td>\n",
       "    </tr>\n",
       "    <tr>\n",
       "      <th>ES</th>\n",
       "      <td>2008</td>\n",
       "      <td>3.996845</td>\n",
       "    </tr>\n",
       "    <tr>\n",
       "      <th>GO</th>\n",
       "      <td>1960</td>\n",
       "      <td>3.992927</td>\n",
       "    </tr>\n",
       "    <tr>\n",
       "      <th>PB</th>\n",
       "      <td>523</td>\n",
       "      <td>3.991468</td>\n",
       "    </tr>\n",
       "    <tr>\n",
       "      <th>MT</th>\n",
       "      <td>891</td>\n",
       "      <td>3.977799</td>\n",
       "    </tr>\n",
       "    <tr>\n",
       "      <th>PE</th>\n",
       "      <td>1631</td>\n",
       "      <td>3.965031</td>\n",
       "    </tr>\n",
       "    <tr>\n",
       "      <th>PI</th>\n",
       "      <td>486</td>\n",
       "      <td>3.896422</td>\n",
       "    </tr>\n",
       "    <tr>\n",
       "      <th>SE</th>\n",
       "      <td>343</td>\n",
       "      <td>3.829396</td>\n",
       "    </tr>\n",
       "    <tr>\n",
       "      <th>BA</th>\n",
       "      <td>3315</td>\n",
       "      <td>3.819579</td>\n",
       "    </tr>\n",
       "    <tr>\n",
       "      <th>CE</th>\n",
       "      <td>1312</td>\n",
       "      <td>3.818432</td>\n",
       "    </tr>\n",
       "    <tr>\n",
       "      <th>RJ</th>\n",
       "      <td>12571</td>\n",
       "      <td>3.810596</td>\n",
       "    </tr>\n",
       "    <tr>\n",
       "      <th>PA</th>\n",
       "      <td>952</td>\n",
       "      <td>3.791985</td>\n",
       "    </tr>\n",
       "    <tr>\n",
       "      <th>AL</th>\n",
       "      <td>407</td>\n",
       "      <td>3.714286</td>\n",
       "    </tr>\n",
       "    <tr>\n",
       "      <th>MA</th>\n",
       "      <td>730</td>\n",
       "      <td>3.714286</td>\n",
       "    </tr>\n",
       "    <tr>\n",
       "      <th>RR</th>\n",
       "      <td>44</td>\n",
       "      <td>3.560000</td>\n",
       "    </tr>\n",
       "  </tbody>\n",
       "</table>\n",
       "</div>"
      ],
      "text/plain": [
       "                order_id  review_score\n",
       "customer_state                        \n",
       "AP                    68      4.222222\n",
       "SP                 40811      4.130311\n",
       "TO                   275      4.113269\n",
       "PR                  4928      4.104472\n",
       "AM                   146      4.086420\n",
       "MG                 11378      4.086086\n",
       "AC                    79      4.077778\n",
       "RN                   476      4.076775\n",
       "RS                  5352      4.059864\n",
       "MS                   700      4.054878\n",
       "RO                   242      4.018450\n",
       "SC                  3554      4.008307\n",
       "DF                  2094      4.001259\n",
       "ES                  2008      3.996845\n",
       "GO                  1960      3.992927\n",
       "PB                   523      3.991468\n",
       "MT                   891      3.977799\n",
       "PE                  1631      3.965031\n",
       "PI                   486      3.896422\n",
       "SE                   343      3.829396\n",
       "BA                  3315      3.819579\n",
       "CE                  1312      3.818432\n",
       "RJ                 12571      3.810596\n",
       "PA                   952      3.791985\n",
       "AL                   407      3.714286\n",
       "MA                   730      3.714286\n",
       "RR                    44      3.560000"
      ]
     },
     "execution_count": 144,
     "metadata": {},
     "output_type": "execute_result"
    }
   ],
   "source": [
    "all_data_df.groupby(by=\"customer_state\").agg({\n",
    "    \"order_id\": \"nunique\",\n",
    "    \"review_score\": \"mean\"\n",
    "}).sort_values(by=\"review_score\", ascending=False)"
   ]
  },
  {
   "cell_type": "code",
   "execution_count": 133,
   "id": "accc156e",
   "metadata": {},
   "outputs": [],
   "source": [
    "all_data_df.to_csv(\"all_data.csv\", index=False)"
   ]
  },
  {
   "cell_type": "markdown",
   "id": "6dfabb4e",
   "metadata": {},
   "source": [
    "### Visualization & Explanatory Analysis"
   ]
  },
  {
   "cell_type": "markdown",
   "id": "2a35a9b0",
   "metadata": {},
   "source": [
    "#### Effect of review value on the number of product purchases"
   ]
  },
  {
   "cell_type": "markdown",
   "id": "4cff3f22",
   "metadata": {},
   "source": [
    "Create data on the number of orders and average review scores for each product category"
   ]
  },
  {
   "cell_type": "code",
   "execution_count": 145,
   "id": "0559d701",
   "metadata": {},
   "outputs": [
    {
     "name": "stdout",
     "output_type": "stream",
     "text": [
      "                               Number of Order  Review Score\n",
      "product_category_name                                       \n",
      "cama_mesa_banho                          11270      3.895663\n",
      "beleza_saude                              9727      4.142768\n",
      "esporte_lazer                             8700      4.107986\n",
      "moveis_decoracao                          8415      3.903493\n",
      "informatica_acessorios                    7894      3.930819\n",
      "...                                        ...           ...\n",
      "cds_dvds_musicais                           14      4.642857\n",
      "la_cuisine                                  14      4.000000\n",
      "pc_gamer                                     9      3.333333\n",
      "fashion_roupa_infanto_juvenil                8      4.500000\n",
      "seguros_e_servicos                           2      2.500000\n",
      "\n",
      "[73 rows x 2 columns]\n"
     ]
    }
   ],
   "source": [
    "summary_df = all_data_df.groupby('product_category_name').agg({\n",
    "    'order_id': 'count', \n",
    "    'review_score': 'mean'  \n",
    "})\n",
    "\n",
    "summary_df.columns = ['Number of Order', 'Review Score']\n",
    "summary_df = summary_df.sort_values(by='Number of Order', ascending=False)\n",
    "\n",
    "print(summary_df)"
   ]
  },
  {
   "cell_type": "markdown",
   "id": "ee479edd",
   "metadata": {},
   "source": [
    "Visualization of the number of orders for top 30 product category"
   ]
  },
  {
   "cell_type": "code",
   "execution_count": 183,
   "id": "7b79dfd0",
   "metadata": {},
   "outputs": [
    {
     "data": {
      "image/png": "[encoded data removed]",
      "text/plain": [
       "<Figure size 1000x600 with 1 Axes>"
      ]
     },
     "metadata": {},
     "output_type": "display_data"
    }
   ],
   "source": [
    "top_30_summary_df = summary_df.head(30)\n",
    "\n",
    "plt.figure(figsize=(10, 6))\n",
    "top_30_summary_df['Number of Order'].plot(kind='bar', color='skyblue')\n",
    "plt.title('30 most ordered products')\n",
    "plt.xlabel('Name Product')\n",
    "plt.ylabel('Number of Order')\n",
    "plt.xticks(rotation=90)\n",
    "plt.show()"
   ]
  },
  {
   "cell_type": "markdown",
   "id": "b77445c9",
   "metadata": {},
   "source": [
    "Visualization of the average review score of top 30 category products"
   ]
  },
  {
   "cell_type": "code",
   "execution_count": 184,
   "id": "cac716db",
   "metadata": {},
   "outputs": [
    {
     "data": {
      "image/png": "[encoded data removed]",
      "text/plain": [
       "<Figure size 1000x600 with 1 Axes>"
      ]
     },
     "metadata": {},
     "output_type": "display_data"
    }
   ],
   "source": [
    "review_df = summary_df.sort_values(by='Review Score', ascending=False)\n",
    "top_30_review_df = review_df.head(30)\n",
    "\n",
    "plt.figure(figsize=(10, 6))\n",
    "top_30_review_df['Review Score'].plot(kind='bar', color='skyblue')\n",
    "plt.title('30 products with the best review scores')\n",
    "plt.xlabel('Name Product')\n",
    "plt.ylabel('Review Score')\n",
    "plt.xticks(rotation=90)\n",
    "plt.show()"
   ]
  },
  {
   "cell_type": "markdown",
   "id": "5ebc15a9",
   "metadata": {},
   "source": [
    "#### View the pattern of the number of orders in the top 3 states"
   ]
  },
  {
   "cell_type": "markdown",
   "id": "ce92137c",
   "metadata": {},
   "source": [
    "View the order pattern in the state with the most orders"
   ]
  },
  {
   "cell_type": "code",
   "execution_count": 185,
   "id": "b1f1054c",
   "metadata": {},
   "outputs": [
    {
     "data": {
      "image/png": "[encoded data removed]",
      "text/plain": [
       "<Figure size 1000x600 with 1 Axes>"
      ]
     },
     "metadata": {},
     "output_type": "display_data"
    }
   ],
   "source": [
    "\n",
    "top_state = all_data_df['customer_state'].value_counts().idxmax()\n",
    "df_top_state = all_data_df[all_data_df['customer_state'] == top_state]\n",
    "\n",
    "end_date = pd.to_datetime(df_top_state['order_purchase_timestamp']).max()\n",
    "start_date = end_date - pd.DateOffset(years=2)\n",
    "df_top_state_last_year = df_top_state[(df_top_state['order_purchase_timestamp'] >= start_date) & (df_top_state['order_purchase_timestamp'] <= end_date)]\n",
    "\n",
    "monthly_orders = df_top_state_last_year.resample('M', on='order_purchase_timestamp')['order_id'].count()\n",
    "\n",
    "plt.figure(figsize=(10, 6))\n",
    "monthly_orders.plot(kind='bar')\n",
    "plt.title(f'Purchasing pattern in satet {top_state} (Last 2 years)')\n",
    "plt.xlabel('Month')\n",
    "plt.ylabel('Number of Order')\n",
    "plt.xticks(rotation=90)\n",
    "plt.show()"
   ]
  },
  {
   "cell_type": "markdown",
   "id": "df855c77",
   "metadata": {},
   "source": [
    "View the order pattern of the state with the second most orders"
   ]
  },
  {
   "cell_type": "code",
   "execution_count": 186,
   "id": "2455d0e1",
   "metadata": {},
   "outputs": [
    {
     "data": {
      "image/png": "[encoded data removed]",
      "text/plain": [
       "<Figure size 1000x600 with 1 Axes>"
      ]
     },
     "metadata": {},
     "output_type": "display_data"
    }
   ],
   "source": [
    "second_state = all_data_df['customer_state'].value_counts().index[1]\n",
    "\n",
    "# Filter data untuk negara bagian dengan urutan kedua\n",
    "df_second_state = all_data_df[all_data_df['customer_state'] == second_state]\n",
    "\n",
    "# Ambil data untuk kurun waktu satu tahun terakhir\n",
    "end_date = pd.to_datetime(df_second_state['order_purchase_timestamp']).max()\n",
    "start_date = end_date - pd.DateOffset(years=2)\n",
    "df_second_state_last_year = df_second_state[(df_second_state['order_purchase_timestamp'] >= start_date) & (df_second_state['order_purchase_timestamp'] <= end_date)]\n",
    "\n",
    "# Hitung jumlah order untuk setiap bulan dalam kurun waktu tersebut\n",
    "monthly_orders = df_second_state_last_year.groupby(pd.Grouper(key='order_purchase_timestamp', freq='M')).size()\n",
    "\n",
    "# Visualisasikan pola pembelian untuk negara bagian dengan urutan kedua\n",
    "plt.figure(figsize=(10, 6))\n",
    "monthly_orders.plot(kind='bar')\n",
    "plt.title(f'Purchasing pattern in satet {second_state} (Last 2 years)')\n",
    "plt.xlabel('Month')\n",
    "plt.ylabel('Number of Order')\n",
    "plt.xticks(rotation=90)\n",
    "plt.show()"
   ]
  },
  {
   "cell_type": "markdown",
   "id": "3bfd6eb4",
   "metadata": {},
   "source": [
    "View the order pattern of the state with the third most orders"
   ]
  },
  {
   "cell_type": "code",
   "execution_count": 187,
   "id": "404daffb",
   "metadata": {},
   "outputs": [
    {
     "data": {
      "image/png": "[encoded data removed]",
      "text/plain": [
       "<Figure size 1000x600 with 1 Axes>"
      ]
     },
     "metadata": {},
     "output_type": "display_data"
    }
   ],
   "source": [
    "third_state = all_data_df['customer_state'].value_counts().index[2]\n",
    "df_third_state = all_data_df[all_data_df['customer_state'] == third_state]\n",
    "\n",
    "end_date = pd.to_datetime(df_third_state['order_purchase_timestamp']).max()\n",
    "start_date = end_date - pd.DateOffset(years=2)\n",
    "df_third_state_last_year = df_third_state[(df_third_state['order_purchase_timestamp'] >= start_date) & (df_third_state['order_purchase_timestamp'] <= end_date)]\n",
    "\n",
    "monthly_orders2 = df_third_state_last_year.groupby(pd.Grouper(key='order_purchase_timestamp', freq='M')).size()\n",
    "\n",
    "plt.figure(figsize=(10, 6))\n",
    "monthly_orders2.plot(kind='bar')\n",
    "plt.title(f'Purchasing pattern in satet {third_state} (Last 2 years)')\n",
    "plt.xlabel('Month')\n",
    "plt.ylabel('Number of Order')\n",
    "plt.xticks(rotation=90)\n",
    "plt.show()"
   ]
  },
  {
   "cell_type": "markdown",
   "id": "28f7dfe9",
   "metadata": {},
   "source": [
    "## Conclusion"
   ]
  },
  {
   "cell_type": "markdown",
   "id": "8459a112",
   "metadata": {},
   "source": [
    "- Pada explorasi dan visualisasi yang telah dilakukan ternyata tidak ada begitu keterikatan yang kuat antara rata-rata review score oleh customer terhadap banyaknya produk tersebut dibeli. Hal ini dapat dilihat product dengan jumlah pembelian terbanyak mendapat nilai review sebesar 3,895 dan 5 product yang dengan pembelian terbanyak tidak masuk kedalam 30 top product dengan rating terbaik. Selain itu product dengan rating terbaik juga hanya di beli sebanyak 14 kali saja. Meskipun dalah rating setiap product yang memiliki pembelian terbanyak masih memiliki nilai yang tergolong baik.\n",
    "\n",
    "- Berdasarkan visualisasi yang telah ditampilkan pada ketiga state pada bagian awal rentang waktu masih terdapat sedikit order hal ini bisa saja terjadi karena masih barunya E-Commerce terbentuk atau masuk kedalam state tersebut namun semakin menuju ke dalam rentang pertengahan waktu terlihat adanya peningkatan yang baik meskipun masih adanya penurunan sedikit pada beberapa bulan namun tidak begitu signifikan. Pada produk yang paling laku dijual peningkatannya masih tetap baik setelah bulan November (11) 2017 sedangkan pada produk terlaris kedua dan ketiga nampak perlahan mengalami penuruan meskipun tidak terlalu signifikan sekali tiap bulan-bulan berikutnya."
   ]
  },
  {
   "cell_type": "code",
   "execution_count": null,
   "id": "7d6b4f8b",
   "metadata": {},
   "outputs": [],
   "source": []
  }
 ],
 "metadata": {
  "kernelspec": {
   "display_name": "Python 3 (ipykernel)",
   "language": "python",
   "name": "python3"
  },
  "language_info": {
   "codemirror_mode": {
    "name": "ipython",
    "version": 3
   },
   "file_extension": ".py",
   "mimetype": "text/x-python",
   "name": "python",
   "nbconvert_exporter": "python",
   "pygments_lexer": "ipython3",
   "version": "3.10.9"
  }
 },
 "nbformat": 4,
 "nbformat_minor": 5
}
